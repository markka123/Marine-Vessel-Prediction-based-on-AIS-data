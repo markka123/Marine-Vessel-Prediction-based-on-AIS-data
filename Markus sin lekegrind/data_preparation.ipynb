{
 "cells": [
  {
   "cell_type": "markdown",
   "metadata": {},
   "source": [
    "### Data preparation"
   ]
  },
  {
   "cell_type": "markdown",
   "metadata": {},
   "source": [
    "The point of this notebook is to prepare all the features that will be used to predict ship-trajectories and store them in a cleaned and prepared csv file"
   ]
  },
  {
   "cell_type": "code",
   "execution_count": 2,
   "metadata": {},
   "outputs": [],
   "source": [
    "import pandas as pd\n",
    "import numpy as np\n",
    "import matplotlib.pyplot as plt\n",
    "from geopy.distance import geodesic\n",
    "from timezonefinder import TimezoneFinder\n",
    "import pytz"
   ]
  },
  {
   "cell_type": "code",
   "execution_count": 4,
   "metadata": {},
   "outputs": [],
   "source": [
    "ais_train_data_path = '../../Project materials/ais_train.csv'\n",
    "ais_test_data_path = '../../Project materials/ais_test.csv'\n",
    "ports_data_path = '../../Project materials/ports.csv'\n",
    "vessels_data_path = '../../Project materials/vessels.csv'\n",
    "schedules_data_path = '../../Project materials/schedules_to_may_2024.csv'\n",
    "\n",
    "\n",
    "\n",
    "ais_data_train = pd.read_csv(ais_train_data_path, sep='|')\n",
    "ais_data_test = pd.read_csv(ais_test_data_path, sep=',')\n",
    "ports = pd.read_csv(ports_data_path, sep='|')\n",
    "vessels = pd.read_csv(vessels_data_path, sep='|')\n",
    "schedules = pd.read_csv(schedules_data_path, sep='|')"
   ]
  },
  {
   "cell_type": "markdown",
   "metadata": {},
   "source": [
    "##### Relevant AIS-data features"
   ]
  },
  {
   "cell_type": "markdown",
   "metadata": {},
   "source": [
    "Navstat:"
   ]
  },
  {
   "cell_type": "code",
   "execution_count": 9,
   "metadata": {},
   "outputs": [],
   "source": [
    "# EXTRACT MOVEMENT STATUS FROM NAVSTAT:\n",
    "\n",
    "def categorize_navstat_contrast(navstat):\n",
    "    if navstat in [0, 8]:\n",
    "        return 1  # Underway\n",
    "    elif navstat in [2, 3, 4]:\n",
    "        return 0.5  # Restricted Movement\n",
    "    elif navstat in [1, 5, 6]:\n",
    "        return -1  # Stationary\n",
    "    else:\n",
    "        return 0  # Unknown\n",
    "\n",
    "ais_data_train['movement_status'] = ais_data_train['navstat'].apply(categorize_navstat_contrast)\n"
   ]
  },
  {
   "cell_type": "markdown",
   "metadata": {},
   "source": [
    "ETARAW:"
   ]
  },
  {
   "cell_type": "code",
   "execution_count": 33,
   "metadata": {},
   "outputs": [],
   "source": [
    "current_year = 2024\n",
    "ais_data_train['ETARAW_transformed'] = ais_data_train['etaRaw'].apply(lambda x: f\"{current_year}-{x}\")\n",
    "ais_data_train['ETARAW_transformed'] = pd.to_datetime(ais_data_train['ETARAW_transformed'], format='%Y-%m-%d %H:%M', errors='coerce')\n",
    "ais_data_train['time'] = pd.to_datetime(ais_data_train['time'])"
   ]
  },
  {
   "cell_type": "code",
   "execution_count": 36,
   "metadata": {},
   "outputs": [],
   "source": [
    "\n",
    "ais_data_train =ais_data_train.sort_values(by=['vesselId', 'time']).reset_index(drop=True)\n",
    "\n",
    "grouped =ais_data_train.groupby('vesselId')\n",
    "\n",
    "ais_data_train['ETARAW_transformed'] = grouped['ETARAW_transformed'].apply(lambda x: x.interpolate(method='linear')).reset_index(level=0, drop=True)\n",
    "\n",
    "ais_data_train['estimated_time_to_destination'] = (ais_data_train['ETARAW_transformed'] -ais_data_train['time']).dt.total_seconds() / 3600\n",
    "\n"
   ]
  },
  {
   "cell_type": "code",
   "execution_count": 40,
   "metadata": {},
   "outputs": [
    {
     "name": "stdout",
     "output_type": "stream",
     "text": [
      "count    1.522065e+06\n",
      "mean     1.459338e+02\n",
      "std      1.110177e+03\n",
      "min     -3.068984e+03\n",
      "25%     -1.885750e+01\n",
      "50%      3.527778e-01\n",
      "75%      2.642722e+01\n",
      "max      8.783835e+03\n",
      "Name: estimated_time_to_destination, dtype: float64\n"
     ]
    }
   ],
   "source": [
    "summary = ais_data_train['estimated_time_to_destination'].describe()\n",
    "print(summary)"
   ]
  },
  {
   "cell_type": "markdown",
   "metadata": {},
   "source": [
    "Other:"
   ]
  },
  {
   "cell_type": "code",
   "execution_count": 35,
   "metadata": {},
   "outputs": [],
   "source": [
    "desiered_ais_columns = ['latitude', 'longitude', 'cog', 'sog', 'movement_status', 'estimated_time_to_destination']\n",
    "\n",
    "ship_train_groups = ais_data_train.groupby('vesselId')\n",
    "ship_train_dataframes = {ship_id: group[desiered_ais_columns] for ship_id, group in ship_train_groups}"
   ]
  },
  {
   "cell_type": "markdown",
   "metadata": {},
   "source": [
    "##### Most likely destination port"
   ]
  },
  {
   "cell_type": "markdown",
   "metadata": {},
   "source": [
    "Should combine\n",
    "- Last known port \n",
    "- Scheduled ports and the most common next port\n",
    "- The port from the ais-data\n",
    "- The port from the vessels current schedule\n",
    "- If not moored check if the ship has gotten closer to the port than it was a day ago"
   ]
  }
 ],
 "metadata": {
  "kernelspec": {
   "display_name": "Python 3",
   "language": "python",
   "name": "python3"
  },
  "language_info": {
   "codemirror_mode": {
    "name": "ipython",
    "version": 3
   },
   "file_extension": ".py",
   "mimetype": "text/x-python",
   "name": "python",
   "nbconvert_exporter": "python",
   "pygments_lexer": "ipython3",
   "version": "3.10.11"
  }
 },
 "nbformat": 4,
 "nbformat_minor": 2
}
