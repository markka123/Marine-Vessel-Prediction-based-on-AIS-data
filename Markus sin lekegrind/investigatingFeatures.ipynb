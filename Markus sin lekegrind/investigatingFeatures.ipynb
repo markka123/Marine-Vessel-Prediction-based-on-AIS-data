{
 "cells": [
  {
   "cell_type": "markdown",
   "metadata": {},
   "source": [
    "### Clean up data and transform to correct formats"
   ]
  },
  {
   "cell_type": "markdown",
   "metadata": {},
   "source": [
    "Vessel-specific data:\n",
    "- Ship-type\n",
    "- Draft\n",
    "- Length\n",
    "- Breadth\n",
    "- Depth\n",
    "- Engine Power\n",
    "- Top speed\n",
    "- longitude and latitude of destination port\n",
    "- longditude and latitude of home port\n",
    "- longditude and latutude of ais-port\n",
    "\n",
    "Time-series data:\n",
    "- Time since sailing\n",
    "- Time untill arrival\n",
    "- Mooring status (True if sog is close to zero, longitude and latitude does not change for a certain time, if the longitude and latitude are close to the known port-destinations)\n",
    "- AIS data (position, cog, sog, rot, heading, ETARAW, navstat)\n",
    "\n",
    "\n",
    "Ideas to derived features:\n",
    "- Current speed percentage of max speed\n",
    "- Historical average speed over different time frames\n",
    "- Heading relative to destination port - suggests if the ship is taking a detour or not\n",
    "- Changes in heading\n",
    "- Use the ship dimentions to categorize into large, medium and small ships\n"
   ]
  },
  {
   "cell_type": "code",
   "execution_count": 2,
   "metadata": {},
   "outputs": [],
   "source": [
    "import pandas as pd\n",
    "import numpy as np\n",
    "import matplotlib.pyplot as plt\n",
    "from geopy.distance import geodesic\n",
    "from timezonefinder import TimezoneFinder\n",
    "import pytz"
   ]
  },
  {
   "cell_type": "code",
   "execution_count": 3,
   "metadata": {},
   "outputs": [],
   "source": [
    "ais_train_data_path = '../../Project materials/ais_train.csv'\n",
    "ais_test_data_path = '../../Project materials/ais_test.csv'\n",
    "ports_data_path = '../../Project materials/ports.csv'\n",
    "vessels_data_path = '../../Project materials/vessels.csv'\n",
    "schedules_data_path = '../../Project materials/schedules_to_may_2024.csv'\n",
    "\n",
    "\n",
    "\n",
    "ais_data_train = pd.read_csv(ais_train_data_path, sep='|')\n",
    "ais_data_test = pd.read_csv(ais_test_data_path, sep=',')\n",
    "ports = pd.read_csv(ports_data_path, sep='|')\n",
    "vessels = pd.read_csv(vessels_data_path, sep='|')\n",
    "schedules = pd.read_csv(schedules_data_path, sep='|')"
   ]
  },
  {
   "cell_type": "code",
   "execution_count": 4,
   "metadata": {},
   "outputs": [
    {
     "name": "stdout",
     "output_type": "stream",
     "text": [
      "vesselId\n",
      "61e9f3cbb937134a3c4bff09       1\n",
      "61e9f3adb937134a3c4bfe37      31\n",
      "61e9f3c6b937134a3c4bfed5     160\n",
      "61e9f42cb937134a3c4c00f9     191\n",
      "61e9f45cb937134a3c4c022b     196\n",
      "                            ... \n",
      "61e9f465b937134a3c4c0271    7689\n",
      "61e9f465b937134a3c4c026d    7928\n",
      "61e9f464b937134a3c4c025f    7958\n",
      "61e9f466b937134a3c4c0273    8626\n",
      "6323f2287abc89c0a9631e57    8656\n",
      "Length: 688, dtype: int64\n"
     ]
    }
   ],
   "source": [
    "# unique_vessel_test = ais_data_test['vesselId'].unique()\n",
    "\n",
    "\n",
    "# new_ais_data_train = ais_data_train[ais_data_train['vesselId'].isin(unique_vessel_test)]\n",
    "# Assuming your dataframe is named 'df' and has a 'vesselId' column\n",
    "timesteps_per_ship = ais_data_train.groupby('vesselId').size()\n",
    "\n",
    "# Sort the counts in descending order to see which ships have the most timesteps (optional)\n",
    "timesteps_per_ship = timesteps_per_ship.sort_values(ascending=True)\n",
    "\n",
    "# Display the result\n",
    "print(timesteps_per_ship)\n"
   ]
  },
  {
   "cell_type": "markdown",
   "metadata": {},
   "source": [
    "### Investigate features"
   ]
  },
  {
   "cell_type": "code",
   "execution_count": 16,
   "metadata": {},
   "outputs": [
    {
     "name": "stdout",
     "output_type": "stream",
     "text": [
      "Dataset: ais_data_train\n",
      "\n",
      "Missing Values:\n",
      "time            0\n",
      "cog             0\n",
      "sog             0\n",
      "rot             0\n",
      "heading         0\n",
      "navstat         0\n",
      "etaRaw          0\n",
      "latitude        0\n",
      "longitude       0\n",
      "vesselId        0\n",
      "portId       1615\n",
      "dtype: int64\n",
      "\n",
      "Statistical Summary for Numeric Columns:\n",
      "                cog           sog           rot       heading       navstat  \\\n",
      "count  1.522065e+06  1.522065e+06  1.522065e+06  1.522065e+06  1.522065e+06   \n",
      "mean   1.782494e+02  6.331703e+00  5.054561e-01  1.762737e+02  2.092604e+00   \n",
      "std    1.076785e+02  7.539364e+00  1.760916e+01  1.070860e+02  2.411965e+00   \n",
      "min    0.000000e+00  0.000000e+00 -1.270000e+02  0.000000e+00  0.000000e+00   \n",
      "25%    7.820000e+01  0.000000e+00  0.000000e+00  7.500000e+01  0.000000e+00   \n",
      "50%    1.838000e+02  5.000000e-01  0.000000e+00  1.800000e+02  0.000000e+00   \n",
      "75%    2.690000e+02  1.410000e+01  0.000000e+00  2.650000e+02  5.000000e+00   \n",
      "max    3.600000e+02  1.023000e+02  1.280000e+02  5.110000e+02  1.500000e+01   \n",
      "\n",
      "           latitude     longitude  \n",
      "count  1.522065e+06  1.522065e+06  \n",
      "mean   3.658497e+01  1.153646e+01  \n",
      "std    2.290488e+01  6.871572e+01  \n",
      "min   -4.753287e+01 -1.675409e+02  \n",
      "25%    3.451683e+01 -5.212810e+00  \n",
      "50%    4.223370e+01  4.234350e+00  \n",
      "75%    5.135197e+01  1.883715e+01  \n",
      "max    7.055720e+01  1.788054e+02  \n",
      "\n",
      "--------------------------------------------------\n",
      "\n",
      "Dataset: ports\n",
      "\n",
      "Missing Values:\n",
      "portId          0\n",
      "name            0\n",
      "portLocation    0\n",
      "longitude       0\n",
      "latitude        0\n",
      "UN_LOCODE       0\n",
      "countryName     0\n",
      "ISO             0\n",
      "dtype: int64\n",
      "\n",
      "Statistical Summary for Numeric Columns:\n",
      "         longitude     latitude\n",
      "count  1329.000000  1329.000000\n",
      "mean     20.630528    35.146181\n",
      "std      67.458101    25.098764\n",
      "min    -173.300000   -53.794444\n",
      "25%      -4.933000    25.920000\n",
      "50%      13.933000    39.050000\n",
      "75%      44.583000    53.882778\n",
      "max     178.426111    71.643056\n",
      "\n",
      "--------------------------------------------------\n",
      "\n",
      "Dataset: vessels\n",
      "\n",
      "Missing Values:\n",
      "shippingLineId      0\n",
      "vesselId            0\n",
      "CEU                 0\n",
      "DWT                 8\n",
      "GT                  0\n",
      "NT                524\n",
      "vesselType         12\n",
      "breadth             8\n",
      "depth             469\n",
      "draft             701\n",
      "enginePower        20\n",
      "freshWater        490\n",
      "fuel              490\n",
      "homePort          138\n",
      "length              0\n",
      "maxHeight         676\n",
      "maxSpeed          498\n",
      "maxWidth          676\n",
      "rampCapacity      677\n",
      "yearBuilt           0\n",
      "dtype: int64\n",
      "\n",
      "Statistical Summary for Numeric Columns:\n",
      "               CEU            DWT             GT            NT  vesselType  \\\n",
      "count   711.000000     703.000000     711.000000    187.000000  699.000000   \n",
      "mean   5006.454290   18556.291607   51207.534459  17931.326203   72.424893   \n",
      "std    2186.256335    8562.952922   16329.899399   3838.264571   23.366361   \n",
      "min       0.000000    3222.000000    8659.000000   3137.000000   14.000000   \n",
      "25%    3800.000000   14267.000000   39362.000000  15576.000000   83.000000   \n",
      "50%    5400.000000   18720.000000   56738.000000  18474.000000   83.000000   \n",
      "75%    6500.000000   21281.000000   60619.500000  19152.000000   83.000000   \n",
      "max    8500.000000  108650.000000  100430.000000  29329.000000   83.000000   \n",
      "\n",
      "          breadth       depth      draft   enginePower  freshWater  \\\n",
      "count  703.000000  242.000000  10.000000    691.000000  221.000000   \n",
      "mean    31.102703   21.383140   9.750000   6789.522431  484.764932   \n",
      "std      3.563432    2.658188   3.229355   7342.526020  136.657132   \n",
      "min     18.000000   11.900000   5.750000      0.000000  178.850000   \n",
      "25%     31.000000   21.120000   7.640000      0.000000  369.000000   \n",
      "50%     32.000000   21.310000   9.185000      0.000000  471.000000   \n",
      "75%     32.260000   22.040000   9.932500  14121.000000  567.000000   \n",
      "max     42.000000   32.600000  15.400000  36000.000000  806.580000   \n",
      "\n",
      "              fuel      length  maxHeight    maxSpeed   maxWidth  \\\n",
      "count   221.000000  711.000000  35.000000  213.000000  35.000000   \n",
      "mean   2985.804525  195.176661   5.165714   21.695775  12.834286   \n",
      "std     427.018341   23.789823   0.604854    0.797420   5.232193   \n",
      "min     502.000000   99.900000   3.000000   16.700000   0.000000   \n",
      "25%    2808.000000  183.000000   5.000000   21.400000  11.300000   \n",
      "50%    2991.000000  199.000000   5.000000   21.800000  15.200000   \n",
      "75%    3185.000000  199.990000   5.100000   22.200000  15.200000   \n",
      "max    4454.000000  296.000000   6.500000   23.300000  19.300000   \n",
      "\n",
      "       rampCapacity    yearBuilt  \n",
      "count     34.000000   711.000000  \n",
      "mean     164.705882  2007.455696  \n",
      "std       80.781610     6.067734  \n",
      "min       80.000000  1985.000000  \n",
      "25%      127.500000  2004.000000  \n",
      "50%      150.000000  2008.000000  \n",
      "75%      150.000000  2011.000000  \n",
      "max      375.000000  2022.000000  \n",
      "\n",
      "--------------------------------------------------\n",
      "\n",
      "Dataset: schedules\n",
      "\n",
      "Missing Values:\n",
      "vesselId            4615\n",
      "shippingLineId         0\n",
      "shippingLineName       0\n",
      "arrivalDate         5515\n",
      "sailingDate         1881\n",
      "portName            4402\n",
      "portId              4402\n",
      "portLatitude        4402\n",
      "portLongitude       4402\n",
      "dtype: int64\n",
      "\n",
      "Statistical Summary for Numeric Columns:\n",
      "        portLatitude  portLongitude\n",
      "count  131848.000000  131848.000000\n",
      "mean       28.021038       4.338822\n",
      "std        27.401476      80.059006\n",
      "min       -37.832778    -149.571389\n",
      "25%        19.208333     -76.558889\n",
      "50%        35.164167       3.207222\n",
      "75%        50.902500      39.299167\n",
      "max        68.795000     174.771111\n",
      "\n",
      "--------------------------------------------------\n",
      "\n"
     ]
    }
   ],
   "source": [
    "def generate_summary(dataframe, name):\n",
    "    \n",
    "    missing_values = dataframe.isnull().sum()\n",
    "    \n",
    "    stats_summary = dataframe.describe()\n",
    "    \n",
    "    print(f\"Dataset: {name}\\n\")\n",
    "    print(\"Missing Values:\")\n",
    "    print(missing_values)\n",
    "    print(\"\\nStatistical Summary for Numeric Columns:\")\n",
    "    print(stats_summary)\n",
    "    print(\"\\n\" + \"-\"*50 + \"\\n\")\n",
    "\n",
    "datasets = {\n",
    "    'ais_data_train': ais_data_train,\n",
    "    'ports': ports,\n",
    "    'vessels': vessels,\n",
    "    'schedules': schedules\n",
    "}\n",
    "\n",
    "\n",
    "for name, df in datasets.items():\n",
    "    generate_summary(df, name)"
   ]
  },
  {
   "cell_type": "code",
   "execution_count": 6,
   "metadata": {},
   "outputs": [
    {
     "data": {
      "text/plain": [
       "count    1.522065e+06\n",
       "mean     7.751554e+01\n",
       "std      8.822453e+02\n",
       "min      0.000000e+00\n",
       "25%      1.901667e+01\n",
       "50%      2.063333e+01\n",
       "75%      2.101667e+01\n",
       "max      9.872292e+04\n",
       "Name: time_difference, dtype: float64"
      ]
     },
     "execution_count": 6,
     "metadata": {},
     "output_type": "execute_result"
    }
   ],
   "source": [
    "ais_data_train['time'] = pd.to_datetime(ais_data_train['time'])\n",
    "\n",
    "\n",
    "ais_data_train['time_difference'] = ais_data_train.groupby('vesselId')['time'].diff().dt.total_seconds() / 60\n",
    "ais_data_train['time_difference'] = ais_data_train['time_difference'].fillna(0)\n",
    "\n",
    "\n",
    "ais_data_train['time_difference'].describe()"
   ]
  },
  {
   "cell_type": "markdown",
   "metadata": {},
   "source": [
    "#### Port-ID in the AIS dataset"
   ]
  },
  {
   "cell_type": "code",
   "execution_count": 14,
   "metadata": {},
   "outputs": [
    {
     "name": "stdout",
     "output_type": "stream",
     "text": [
      "Number of portIds that are present in less than 12 datapoints: 108\n",
      "Frequency Counts for portId:\n",
      "\n",
      "portId\n",
      "61d36f9a0a1807568ff9a156    84383\n",
      "61d375e793c6feb83e5eb3e2    44697\n",
      "61d375f793c6feb83e5eb402    40399\n",
      "61d36f970a1807568ff9a151    40342\n",
      "61d375e893c6feb83e5eb3e4    34227\n",
      "                            ...  \n",
      "634c4de270937fc01c3a7425        1\n",
      "635e9424bef885201a5e0fcc        1\n",
      "634c4de270937fc01c3a71a7        1\n",
      "634c4de270937fc01c3a75d9        1\n",
      "634c4de270937fc01c3a713e        1\n",
      "Name: count, Length: 772, dtype: int64\n",
      "\n",
      "Number of missing values in portId: 1615\n"
     ]
    }
   ],
   "source": [
    "port_id_counts = ais_data_train['portId'].value_counts()\n",
    "port_id_missing = ais_data_train['portId'].isnull().sum()\n",
    "\n",
    "\n",
    "port_ids_less_than_12 = port_id_counts[port_id_counts < 12]\n",
    "\n",
    "# Displaying the number of unique portIds that occur less than 12 times\n",
    "num_port_ids_less_than_12 = len(port_ids_less_than_12)\n",
    "print(f\"Number of portIds that are present in less than 12 datapoints: {num_port_ids_less_than_12}\")\n",
    "\n",
    "\n",
    "\n",
    "print(\"Frequency Counts for portId:\\n\")\n",
    "print(port_id_counts)\n",
    "print(\"\\nNumber of missing values in portId:\", port_id_missing)\n"
   ]
  },
  {
   "cell_type": "code",
   "execution_count": 10,
   "metadata": {},
   "outputs": [
    {
     "data": {
      "image/png": "[encoded data removed]",
      "text/plain": [
       "<Figure size 1000x600 with 1 Axes>"
      ]
     },
     "metadata": {},
     "output_type": "display_data"
    }
   ],
   "source": [
    "import matplotlib.pyplot as plt\n",
    "\n",
    "top_port_ids = port_id_counts.head(20)\n",
    "plt.figure(figsize=(10, 6))\n",
    "top_port_ids.plot(kind='bar')\n",
    "plt.title('Top 20 Most Common portIds')\n",
    "plt.xlabel('Port ID')\n",
    "plt.ylabel('Frequency')\n",
    "plt.xticks(rotation=45)\n",
    "plt.show()"
   ]
  },
  {
   "cell_type": "markdown",
   "metadata": {},
   "source": [
    "##### Conclutions"
   ]
  },
  {
   "cell_type": "markdown",
   "metadata": {},
   "source": [
    "- The port-id can be useful, but it should be used with caution beacuse of the inconsistencies mentioned in the dataset-definitions, its missing values and its large-count low frequency ports \n",
    "- Should try to infer the most likely destination port based on historically visited ports, heading and the most reacent port-id in the AIS dataset. \n",
    "- Based on this the vessels distance to its most likely destination port can be calculated\n",
    "- Evaluate the performance of this "
   ]
  },
  {
   "cell_type": "code",
   "execution_count": 9,
   "metadata": {},
   "outputs": [],
   "source": [
    "ship_train_groups = ais_data_train.groupby('vesselId')\n",
    "ship_train_dataframes = {ship_id: group for ship_id, group in ship_train_groups}"
   ]
  },
  {
   "cell_type": "code",
   "execution_count": 81,
   "metadata": {},
   "outputs": [
    {
     "ename": "KeyboardInterrupt",
     "evalue": "",
     "output_type": "error",
     "traceback": [
      "\u001b[1;31m---------------------------------------------------------------------------\u001b[0m",
      "\u001b[1;31mKeyboardInterrupt\u001b[0m                         Traceback (most recent call last)",
      "Cell \u001b[1;32mIn[81], line 24\u001b[0m\n\u001b[0;32m     22\u001b[0m \u001b[38;5;66;03m# Loop through each vessel dataframe and infer the visited ports\u001b[39;00m\n\u001b[0;32m     23\u001b[0m \u001b[38;5;28;01mfor\u001b[39;00m vessel_id, vessel_df \u001b[38;5;129;01min\u001b[39;00m ship_train_dataframes\u001b[38;5;241m.\u001b[39mitems():\n\u001b[1;32m---> 24\u001b[0m     visited_ports \u001b[38;5;241m=\u001b[39m \u001b[43minfer_visited_ports\u001b[49m\u001b[43m(\u001b[49m\u001b[43mvessel_df\u001b[49m\u001b[43m,\u001b[49m\u001b[43m \u001b[49m\u001b[43mports\u001b[49m\u001b[43m,\u001b[49m\u001b[43m \u001b[49m\u001b[43mDISTANCE_THRESHOLD_KM\u001b[49m\u001b[43m)\u001b[49m\n\u001b[0;32m     25\u001b[0m     vessel_visited_ports[vessel_id] \u001b[38;5;241m=\u001b[39m visited_ports\n\u001b[0;32m     26\u001b[0m     \u001b[38;5;28mprint\u001b[39m(\u001b[38;5;124m'\u001b[39m\u001b[38;5;124mvessel done\u001b[39m\u001b[38;5;124m'\u001b[39m)\n",
      "Cell \u001b[1;32mIn[81], line 10\u001b[0m, in \u001b[0;36minfer_visited_ports\u001b[1;34m(vessel_df, ports_df, distance_threshold)\u001b[0m\n\u001b[0;32m      7\u001b[0m \u001b[38;5;28;01mfor\u001b[39;00m index, row \u001b[38;5;129;01min\u001b[39;00m vessel_df\u001b[38;5;241m.\u001b[39miterrows():\n\u001b[0;32m      8\u001b[0m     vessel_position \u001b[38;5;241m=\u001b[39m (row[\u001b[38;5;124m'\u001b[39m\u001b[38;5;124mlatitude\u001b[39m\u001b[38;5;124m'\u001b[39m], row[\u001b[38;5;124m'\u001b[39m\u001b[38;5;124mlongitude\u001b[39m\u001b[38;5;124m'\u001b[39m])\n\u001b[1;32m---> 10\u001b[0m     \u001b[38;5;28;01mfor\u001b[39;00m _, port_row \u001b[38;5;129;01min\u001b[39;00m ports_df\u001b[38;5;241m.\u001b[39miterrows():\n\u001b[0;32m     11\u001b[0m         port_position \u001b[38;5;241m=\u001b[39m (port_row[\u001b[38;5;124m'\u001b[39m\u001b[38;5;124mlatitude\u001b[39m\u001b[38;5;124m'\u001b[39m], port_row[\u001b[38;5;124m'\u001b[39m\u001b[38;5;124mlongitude\u001b[39m\u001b[38;5;124m'\u001b[39m])\n\u001b[0;32m     13\u001b[0m         distance \u001b[38;5;241m=\u001b[39m geodesic(vessel_position, port_position)\u001b[38;5;241m.\u001b[39mkm\n",
      "File \u001b[1;32m~\\AppData\\Local\\Packages\\PythonSoftwareFoundation.Python.3.10_qbz5n2kfra8p0\\LocalCache\\local-packages\\Python310\\site-packages\\pandas\\core\\frame.py:1400\u001b[0m, in \u001b[0;36mDataFrame.iterrows\u001b[1;34m(self)\u001b[0m\n\u001b[0;32m   1398\u001b[0m using_cow \u001b[38;5;241m=\u001b[39m using_copy_on_write()\n\u001b[0;32m   1399\u001b[0m \u001b[38;5;28;01mfor\u001b[39;00m k, v \u001b[38;5;129;01min\u001b[39;00m \u001b[38;5;28mzip\u001b[39m(\u001b[38;5;28mself\u001b[39m\u001b[38;5;241m.\u001b[39mindex, \u001b[38;5;28mself\u001b[39m\u001b[38;5;241m.\u001b[39mvalues):\n\u001b[1;32m-> 1400\u001b[0m     s \u001b[38;5;241m=\u001b[39m \u001b[43mklass\u001b[49m\u001b[43m(\u001b[49m\u001b[43mv\u001b[49m\u001b[43m,\u001b[49m\u001b[43m \u001b[49m\u001b[43mindex\u001b[49m\u001b[38;5;241;43m=\u001b[39;49m\u001b[43mcolumns\u001b[49m\u001b[43m,\u001b[49m\u001b[43m \u001b[49m\u001b[43mname\u001b[49m\u001b[38;5;241;43m=\u001b[39;49m\u001b[43mk\u001b[49m\u001b[43m)\u001b[49m\u001b[38;5;241m.\u001b[39m__finalize__(\u001b[38;5;28mself\u001b[39m)\n\u001b[0;32m   1401\u001b[0m     \u001b[38;5;28;01mif\u001b[39;00m using_cow \u001b[38;5;129;01mand\u001b[39;00m \u001b[38;5;28mself\u001b[39m\u001b[38;5;241m.\u001b[39m_mgr\u001b[38;5;241m.\u001b[39mis_single_block:\n\u001b[0;32m   1402\u001b[0m         s\u001b[38;5;241m.\u001b[39m_mgr\u001b[38;5;241m.\u001b[39madd_references(\u001b[38;5;28mself\u001b[39m\u001b[38;5;241m.\u001b[39m_mgr)  \u001b[38;5;66;03m# type: ignore[arg-type]\u001b[39;00m\n",
      "File \u001b[1;32m~\\AppData\\Local\\Packages\\PythonSoftwareFoundation.Python.3.10_qbz5n2kfra8p0\\LocalCache\\local-packages\\Python310\\site-packages\\pandas\\core\\series.py:511\u001b[0m, in \u001b[0;36mSeries.__init__\u001b[1;34m(self, data, index, dtype, name, copy, fastpath)\u001b[0m\n\u001b[0;32m    508\u001b[0m \u001b[38;5;28;01melse\u001b[39;00m:\n\u001b[0;32m    509\u001b[0m     data \u001b[38;5;241m=\u001b[39m sanitize_array(data, index, dtype, copy)\n\u001b[1;32m--> 511\u001b[0m     manager \u001b[38;5;241m=\u001b[39m \u001b[43mget_option\u001b[49m\u001b[43m(\u001b[49m\u001b[38;5;124;43m\"\u001b[39;49m\u001b[38;5;124;43mmode.data_manager\u001b[39;49m\u001b[38;5;124;43m\"\u001b[39;49m\u001b[43m)\u001b[49m\n\u001b[0;32m    512\u001b[0m     \u001b[38;5;28;01mif\u001b[39;00m manager \u001b[38;5;241m==\u001b[39m \u001b[38;5;124m\"\u001b[39m\u001b[38;5;124mblock\u001b[39m\u001b[38;5;124m\"\u001b[39m:\n\u001b[0;32m    513\u001b[0m         data \u001b[38;5;241m=\u001b[39m SingleBlockManager\u001b[38;5;241m.\u001b[39mfrom_array(data, index, refs\u001b[38;5;241m=\u001b[39mrefs)\n",
      "File \u001b[1;32m~\\AppData\\Local\\Packages\\PythonSoftwareFoundation.Python.3.10_qbz5n2kfra8p0\\LocalCache\\local-packages\\Python310\\site-packages\\pandas\\_config\\config.py:261\u001b[0m, in \u001b[0;36mCallableDynamicDoc.__call__\u001b[1;34m(self, *args, **kwds)\u001b[0m\n\u001b[0;32m    260\u001b[0m \u001b[38;5;28;01mdef\u001b[39;00m \u001b[38;5;21m__call__\u001b[39m(\u001b[38;5;28mself\u001b[39m, \u001b[38;5;241m*\u001b[39margs, \u001b[38;5;241m*\u001b[39m\u001b[38;5;241m*\u001b[39mkwds) \u001b[38;5;241m-\u001b[39m\u001b[38;5;241m>\u001b[39m T:\n\u001b[1;32m--> 261\u001b[0m     \u001b[38;5;28;01mreturn\u001b[39;00m \u001b[38;5;28mself\u001b[39m\u001b[38;5;241m.\u001b[39m\u001b[38;5;18m__func__\u001b[39m(\u001b[38;5;241m*\u001b[39margs, \u001b[38;5;241m*\u001b[39m\u001b[38;5;241m*\u001b[39mkwds)\n",
      "\u001b[1;31mKeyboardInterrupt\u001b[0m: "
     ]
    }
   ],
   "source": [
    "DISTANCE_THRESHOLD_KM = 5.0\n",
    "\n",
    "# Function to infer visited ports for a given vessel dataframe based on latitude and longitude\n",
    "def infer_visited_ports(vessel_df, ports_df, distance_threshold):\n",
    "    visited_ports = set()\n",
    "    \n",
    "    for index, row in vessel_df.iterrows():\n",
    "        vessel_position = (row['latitude'], row['longitude'])\n",
    "        \n",
    "        for _, port_row in ports_df.iterrows():\n",
    "            port_position = (port_row['latitude'], port_row['longitude'])\n",
    "            \n",
    "            distance = geodesic(vessel_position, port_position).km\n",
    "            \n",
    "            if distance <= distance_threshold:\n",
    "                visited_ports.add(port_row['portId'])\n",
    "    \n",
    "    return list(visited_ports)\n",
    "\n",
    "vessel_visited_ports = {}\n",
    "\n",
    "# Loop through each vessel dataframe and infer the visited ports\n",
    "for vessel_id, vessel_df in ship_train_dataframes.items():\n",
    "    visited_ports = infer_visited_ports(vessel_df, ports, DISTANCE_THRESHOLD_KM)\n",
    "    vessel_visited_ports[vessel_id] = visited_ports\n",
    "    print('vessel done')\n",
    "    print(len(vessel_visited_ports[vessel_id]))\n",
    "\n",
    "# Display the visited ports for each vessel\n",
    "for vessel_id, ports in vessel_visited_ports.items():\n",
    "    print(f\"Vessel ID: {vessel_id} visited ports: {ports}\")\n"
   ]
  },
  {
   "cell_type": "markdown",
   "metadata": {},
   "source": [
    "#### ETARAW in the ais dataset"
   ]
  },
  {
   "cell_type": "code",
   "execution_count": 13,
   "metadata": {},
   "outputs": [
    {
     "name": "stdout",
     "output_type": "stream",
     "text": [
      "datetime64[ns]\n",
      "        etaRaw  ETARAW_transformed\n",
      "0  01-09 23:00 2024-01-09 23:00:00\n",
      "1  12-29 20:00 2024-12-29 20:00:00\n",
      "2  01-02 09:00 2024-01-02 09:00:00\n",
      "3  12-31 20:00 2024-12-31 20:00:00\n",
      "4  01-25 12:00 2024-01-25 12:00:00\n",
      "Number of NaT (unconverted) values: 3763\n"
     ]
    }
   ],
   "source": [
    "current_year = 2024\n",
    "ais_data_train['ETARAW_transformed'] = ais_data_train['etaRaw'].apply(lambda x: f\"{current_year}-{x}\")\n",
    "\n",
    "# Converting to datetime format\n",
    "ais_data_train['ETARAW_transformed'] = pd.to_datetime(ais_data_train['ETARAW_transformed'], format='%Y-%m-%d %H:%M', errors='coerce')\n",
    "print(ais_data_train['ETARAW_transformed'].dtypes)\n",
    "print(ais_data_train[['etaRaw', 'ETARAW_transformed']].head())\n",
    "\n",
    "# Count the number of NaT values\n",
    "num_nat_values = ais_data_train['ETARAW_transformed'].isna().sum()\n",
    "print(f\"Number of NaT (unconverted) values: {num_nat_values}\")\n",
    "\n"
   ]
  },
  {
   "cell_type": "code",
   "execution_count": 34,
   "metadata": {},
   "outputs": [
    {
     "name": "stdout",
     "output_type": "stream",
     "text": [
      "            etaRaw ETARAW_transformed\n",
      "32785  00-00 23:00                NaT\n",
      "32895  00-00 23:00                NaT\n",
      "33093  00-00 23:00                NaT\n",
      "33162  00-00 23:00                NaT\n",
      "33615  00-00 23:00                NaT\n"
     ]
    }
   ],
   "source": [
    "# Extract rows where ETARAW_transformed could not be converted\n",
    "unconverted_rows = ais_data_train[ais_data_train['ETARAW_transformed'].isna()]\n",
    "\n",
    "# Display the first few rows to inspect\n",
    "print(unconverted_rows[['etaRaw', 'ETARAW_transformed']].head())\n"
   ]
  },
  {
   "cell_type": "code",
   "execution_count": 6,
   "metadata": {},
   "outputs": [
    {
     "name": "stdout",
     "output_type": "stream",
     "text": [
      "Total number of outdated ETARAW values: 746580\n",
      "Number of outdated ETARAW values with SOG approximately 0: 592559\n",
      "Proportion of outdated ETARAW values with SOG approximately 0: 0.79\n"
     ]
    }
   ],
   "source": [
    "ais_data_train['time'] = pd.to_datetime(ais_data_train['time'], errors='coerce')\n",
    "\n",
    "# Filter rows with valid ETARAW_transformed and compare with the corresponding 'time' value\n",
    "invalid_eta_condition = ais_data_train['ETARAW_transformed'].notna() & (ais_data_train['ETARAW_transformed'] < ais_data_train['time'])\n",
    "\n",
    "# Extract rows where ETARAW is before the corresponding timestamp\n",
    "outdated_eta_df = ais_data_train[invalid_eta_condition]\n",
    "\n",
    "# Filter rows from outdated ETARAW where SOG is approximately 0 (e.g., less than or equal to 0.5 knots)\n",
    "sog_stationary_condition = outdated_eta_df['sog'] <= 0.5\n",
    "stationary_outdated_eta_df = outdated_eta_df[sog_stationary_condition]\n",
    "\n",
    "# Calculate the proportion\n",
    "num_outdated_eta = len(outdated_eta_df)\n",
    "num_stationary_outdated_eta = len(stationary_outdated_eta_df)\n",
    "proportion_stationary = num_stationary_outdated_eta / num_outdated_eta if num_outdated_eta > 0 else 0\n",
    "\n",
    "# Display the results\n",
    "print(f\"Total number of outdated ETARAW values: {num_outdated_eta}\")\n",
    "print(f\"Number of outdated ETARAW values with SOG approximately 0: {num_stationary_outdated_eta}\")\n",
    "print(f\"Proportion of outdated ETARAW values with SOG approximately 0: {proportion_stationary:.2f}\")\n"
   ]
  },
  {
   "cell_type": "code",
   "execution_count": null,
   "metadata": {},
   "outputs": [],
   "source": []
  },
  {
   "cell_type": "code",
   "execution_count": 49,
   "metadata": {},
   "outputs": [
    {
     "name": "stdout",
     "output_type": "stream",
     "text": [
      "Total number of datapoints with NAVSTAT as 'Moored' (5) or 'At Anchor' (1): 735346\n",
      "Number of datapoints with NAVSTAT as 'Moored' or 'At Anchor' and outdated ETARAW: 571403\n",
      "Proportion of moored/anchored datapoints with outdated ETARAW: 0.78\n",
      "Proportion of moored/anchored datapoints with outdated ETARAW and sog close to zero: 0.78\n"
     ]
    },
    {
     "name": "stderr",
     "output_type": "stream",
     "text": [
      "C:\\Users\\marku\\AppData\\Local\\Temp\\ipykernel_25512\\1099545497.py:10: UserWarning: Boolean Series key will be reindexed to match DataFrame index.\n",
      "  outdated_eta_moored_or_anchor_sog_nill_df = outdated_eta_moored_or_anchor_df[sog_stationary_condition]\n"
     ]
    }
   ],
   "source": [
    "# Assuming ais_data_train is already loaded and ETARAW_transformed is created\n",
    "\n",
    "# Filter rows where NAVSTAT indicates the vessel is \"Moored\" (5) or \"At Anchor\" (1)\n",
    "moored_or_anchor_condition = ais_data_train['navstat'].isin([5, 1])\n",
    "moored_or_anchor_df = ais_data_train[moored_or_anchor_condition]\n",
    "\n",
    "# Filter rows from moored_or_anchor_df where ETARAW is outdated (i.e., before the timestamp)\n",
    "outdated_eta_condition = moored_or_anchor_df['ETARAW_transformed'].notna() & (moored_or_anchor_df['ETARAW_transformed'] < moored_or_anchor_df['time'])\n",
    "outdated_eta_moored_or_anchor_df = moored_or_anchor_df[outdated_eta_condition]\n",
    "outdated_eta_moored_or_anchor_sog_nill_df = outdated_eta_moored_or_anchor_df[sog_stationary_condition]\n",
    "\n",
    "# Calculate the proportion of moored/anchored rows where ETARAW is outdated\n",
    "num_moored_or_anchor = len(moored_or_anchor_df)\n",
    "num_outdated_eta_moored_or_anchor = len(outdated_eta_moored_or_anchor_df)\n",
    "num_outdated_eta_moored_or_anchor_sog_nill = len(outdated_eta_moored_or_anchor_sog_nill_df)\n",
    "proportion_outdated_eta = num_outdated_eta_moored_or_anchor / num_moored_or_anchor if num_moored_or_anchor > 0 else 0\n",
    "proportion_outdated_eta_sog = num_outdated_eta_moored_or_anchor_sog_nill/num_moored_or_anchor\n",
    "\n",
    "# Display the results\n",
    "print(f\"Total number of datapoints with NAVSTAT as 'Moored' (5) or 'At Anchor' (1): {num_moored_or_anchor}\")\n",
    "print(f\"Number of datapoints with NAVSTAT as 'Moored' or 'At Anchor' and outdated ETARAW: {num_outdated_eta_moored_or_anchor}\")\n",
    "print(f\"Proportion of moored/anchored datapoints with outdated ETARAW: {proportion_outdated_eta:.2f}\")\n",
    "print(f\"Proportion of moored/anchored datapoints with outdated ETARAW and sog close to zero: {proportion_outdated_eta:.2f}\")\n"
   ]
  },
  {
   "cell_type": "code",
   "execution_count": 42,
   "metadata": {},
   "outputs": [
    {
     "name": "stdout",
     "output_type": "stream",
     "text": [
      "                     vesselId  max_consecutive_invalid_etaraw\n",
      "1    61e9f38eb937134a3c4bfd8d                               8\n",
      "16   61e9f396b937134a3c4bfdad                              12\n",
      "20   61e9f399b937134a3c4bfdb5                              71\n",
      "26   61e9f39cb937134a3c4bfdc1                              36\n",
      "32   61e9f39fb937134a3c4bfdcd                              13\n",
      "..                        ...                             ...\n",
      "634  61e9f47bb937134a3c4c02fd                              73\n",
      "637  62080cff66fc0a8e43c6123a                              14\n",
      "654  631e3eb0192150e13fa41628                               5\n",
      "670  6326f449c46d6a20d22ca31d                              42\n",
      "675  6326fcf5c46d6a20d22ca323                               5\n",
      "\n",
      "[94 rows x 2 columns]\n"
     ]
    }
   ],
   "source": [
    "\n",
    "\n",
    "# Assuming ais_data_train is already loaded\n",
    "def is_invalid_eta(etaraw):\n",
    "    return etaraw.startswith('00-00')\n",
    "\n",
    "# Add a column indicating whether ETARAW is invalid\n",
    "ais_data_train['invalid_eta'] = ais_data_train['etaRaw'].apply(lambda x: is_invalid_eta(x) if pd.notna(x) else False)\n",
    "\n",
    "# Sort the dataframe by vessel ID and timestamp to ensure correct ordering\n",
    "ais_data_train = ais_data_train.sort_values(by=['vesselId', 'time']).reset_index(drop=True)\n",
    "\n",
    "# Dictionary to store consecutive invalid counts for each vessel\n",
    "consecutive_invalid_summary = {}\n",
    "\n",
    "# Iterate through each vessel group to calculate consecutive invalid ETARAW values\n",
    "for vessel_id, group in ais_data_train.groupby('vesselId'):\n",
    "    consecutive_count = 0\n",
    "    max_consecutive_count = 0\n",
    "    \n",
    "    # Iterate through the rows for each vessel to calculate consecutive invalid counts\n",
    "    for is_invalid in group['invalid_eta']:\n",
    "        if is_invalid:\n",
    "            consecutive_count += 1\n",
    "        else:\n",
    "            if consecutive_count > 0:\n",
    "                max_consecutive_count = max(max_consecutive_count, consecutive_count)\n",
    "            consecutive_count = 0\n",
    "\n",
    "    # Capture the last streak if it ended at the end of the group\n",
    "    max_consecutive_count = max(max_consecutive_count, consecutive_count)\n",
    "    \n",
    "    # Store the result for this vessel\n",
    "    consecutive_invalid_summary[vessel_id] = max_consecutive_count\n",
    "\n",
    "# Convert the summary to a DataFrame for better display\n",
    "consecutive_invalid_df = pd.DataFrame(list(consecutive_invalid_summary.items()), columns=['vesselId', 'max_consecutive_invalid_etaraw'])\n",
    "\n",
    "# Filter the summary dataframe to only include vessels with at least one consecutive invalid ETARAW value\n",
    "vessels_with_invalid_eta = consecutive_invalid_df[consecutive_invalid_df['max_consecutive_invalid_etaraw'] > 0]\n",
    "\n",
    "# Display the overview of vessels with at least one consecutive invalid ETARAW value\n",
    "print(vessels_with_invalid_eta.head(94))"
   ]
  },
  {
   "cell_type": "code",
   "execution_count": 11,
   "metadata": {},
   "outputs": [
    {
     "name": "stderr",
     "output_type": "stream",
     "text": [
      "C:\\Users\\marku\\AppData\\Local\\Temp\\ipykernel_18576\\3771935248.py:12: UserWarning: Could not infer format, so each element will be parsed individually, falling back to `dateutil`. To ensure parsing is consistent and as-expected, please specify a format.\n",
      "  df['etaRaw'] = pd.to_datetime(df['etaRaw'], errors='coerce')\n"
     ]
    },
    {
     "ename": "ValueError",
     "evalue": "Invalid fill method. Expecting pad (ffill) or backfill (bfill). Got time",
     "output_type": "error",
     "traceback": [
      "\u001b[1;31m---------------------------------------------------------------------------\u001b[0m",
      "\u001b[1;31mValueError\u001b[0m                                Traceback (most recent call last)",
      "Cell \u001b[1;32mIn[11], line 34\u001b[0m\n\u001b[0;32m     30\u001b[0m     \u001b[38;5;28;01mreturn\u001b[39;00m vessel_data_dict\n\u001b[0;32m     32\u001b[0m \u001b[38;5;66;03m# Example usage\u001b[39;00m\n\u001b[0;32m     33\u001b[0m \u001b[38;5;66;03m# vessel_data_dict = { ... }  # Dictionary of ship-ids as keys and corresponding dataframes\u001b[39;00m\n\u001b[1;32m---> 34\u001b[0m vessel_data_dict \u001b[38;5;241m=\u001b[39m \u001b[43mcompute_time_difference_with_interpolation\u001b[49m\u001b[43m(\u001b[49m\u001b[43mship_train_dataframes\u001b[49m\u001b[43m)\u001b[49m\n\u001b[0;32m     36\u001b[0m \u001b[38;5;66;03m# Display the first few rows of each vessel's dataframe to verify the result\u001b[39;00m\n\u001b[0;32m     37\u001b[0m \u001b[38;5;28;01mfor\u001b[39;00m vessel_id, df \u001b[38;5;129;01min\u001b[39;00m vessel_data_dict\u001b[38;5;241m.\u001b[39mitems():\n",
      "Cell \u001b[1;32mIn[11], line 19\u001b[0m, in \u001b[0;36mcompute_time_difference_with_interpolation\u001b[1;34m(vessel_data_dict)\u001b[0m\n\u001b[0;32m     16\u001b[0m df \u001b[38;5;241m=\u001b[39m df\u001b[38;5;241m.\u001b[39mset_index(\u001b[38;5;124m'\u001b[39m\u001b[38;5;124mtime\u001b[39m\u001b[38;5;124m'\u001b[39m)\n\u001b[0;32m     18\u001b[0m \u001b[38;5;66;03m# Interpolate 'etaRaw' linearly for NaN values based on time\u001b[39;00m\n\u001b[1;32m---> 19\u001b[0m df[\u001b[38;5;124m'\u001b[39m\u001b[38;5;124metaRaw\u001b[39m\u001b[38;5;124m'\u001b[39m] \u001b[38;5;241m=\u001b[39m \u001b[43mdf\u001b[49m\u001b[43m[\u001b[49m\u001b[38;5;124;43m'\u001b[39;49m\u001b[38;5;124;43metaRaw\u001b[39;49m\u001b[38;5;124;43m'\u001b[39;49m\u001b[43m]\u001b[49m\u001b[38;5;241;43m.\u001b[39;49m\u001b[43minterpolate\u001b[49m\u001b[43m(\u001b[49m\u001b[43mmethod\u001b[49m\u001b[38;5;241;43m=\u001b[39;49m\u001b[38;5;124;43m'\u001b[39;49m\u001b[38;5;124;43mtime\u001b[39;49m\u001b[38;5;124;43m'\u001b[39;49m\u001b[43m)\u001b[49m\n\u001b[0;32m     21\u001b[0m \u001b[38;5;66;03m# Reset the index back to a column\u001b[39;00m\n\u001b[0;32m     22\u001b[0m df \u001b[38;5;241m=\u001b[39m df\u001b[38;5;241m.\u001b[39mreset_index()\n",
      "File \u001b[1;32m~\\AppData\\Local\\Packages\\PythonSoftwareFoundation.Python.3.10_qbz5n2kfra8p0\\LocalCache\\local-packages\\Python310\\site-packages\\pandas\\core\\series.py:5942\u001b[0m, in \u001b[0;36mSeries.interpolate\u001b[1;34m(self, method, axis, limit, inplace, limit_direction, limit_area, downcast, **kwargs)\u001b[0m\n\u001b[0;32m   5930\u001b[0m \u001b[38;5;28;01mdef\u001b[39;00m \u001b[38;5;21minterpolate\u001b[39m(\n\u001b[0;32m   5931\u001b[0m     \u001b[38;5;28mself\u001b[39m: Series,\n\u001b[0;32m   5932\u001b[0m     method: \u001b[38;5;28mstr\u001b[39m \u001b[38;5;241m=\u001b[39m \u001b[38;5;124m\"\u001b[39m\u001b[38;5;124mlinear\u001b[39m\u001b[38;5;124m\"\u001b[39m,\n\u001b[1;32m   (...)\u001b[0m\n\u001b[0;32m   5940\u001b[0m     \u001b[38;5;241m*\u001b[39m\u001b[38;5;241m*\u001b[39mkwargs,\n\u001b[0;32m   5941\u001b[0m ) \u001b[38;5;241m-\u001b[39m\u001b[38;5;241m>\u001b[39m Series \u001b[38;5;241m|\u001b[39m \u001b[38;5;28;01mNone\u001b[39;00m:\n\u001b[1;32m-> 5942\u001b[0m     \u001b[38;5;28;01mreturn\u001b[39;00m \u001b[38;5;28msuper\u001b[39m()\u001b[38;5;241m.\u001b[39minterpolate(\n\u001b[0;32m   5943\u001b[0m         method\u001b[38;5;241m=\u001b[39mmethod,\n\u001b[0;32m   5944\u001b[0m         axis\u001b[38;5;241m=\u001b[39maxis,\n\u001b[0;32m   5945\u001b[0m         limit\u001b[38;5;241m=\u001b[39mlimit,\n\u001b[0;32m   5946\u001b[0m         inplace\u001b[38;5;241m=\u001b[39minplace,\n\u001b[0;32m   5947\u001b[0m         limit_direction\u001b[38;5;241m=\u001b[39mlimit_direction,\n\u001b[0;32m   5948\u001b[0m         limit_area\u001b[38;5;241m=\u001b[39mlimit_area,\n\u001b[0;32m   5949\u001b[0m         downcast\u001b[38;5;241m=\u001b[39mdowncast,\n\u001b[0;32m   5950\u001b[0m         \u001b[38;5;241m*\u001b[39m\u001b[38;5;241m*\u001b[39mkwargs,\n\u001b[0;32m   5951\u001b[0m     )\n",
      "File \u001b[1;32m~\\AppData\\Local\\Packages\\PythonSoftwareFoundation.Python.3.10_qbz5n2kfra8p0\\LocalCache\\local-packages\\Python310\\site-packages\\pandas\\core\\generic.py:7681\u001b[0m, in \u001b[0;36mNDFrame.interpolate\u001b[1;34m(self, method, axis, limit, inplace, limit_direction, limit_area, downcast, **kwargs)\u001b[0m\n\u001b[0;32m   7675\u001b[0m \u001b[38;5;28;01mif\u001b[39;00m isna(index)\u001b[38;5;241m.\u001b[39many():\n\u001b[0;32m   7676\u001b[0m     \u001b[38;5;28;01mraise\u001b[39;00m \u001b[38;5;167;01mNotImplementedError\u001b[39;00m(\n\u001b[0;32m   7677\u001b[0m         \u001b[38;5;124m\"\u001b[39m\u001b[38;5;124mInterpolation with NaNs in the index \u001b[39m\u001b[38;5;124m\"\u001b[39m\n\u001b[0;32m   7678\u001b[0m         \u001b[38;5;124m\"\u001b[39m\u001b[38;5;124mhas not been implemented. Try filling \u001b[39m\u001b[38;5;124m\"\u001b[39m\n\u001b[0;32m   7679\u001b[0m         \u001b[38;5;124m\"\u001b[39m\u001b[38;5;124mthose NaNs before interpolating.\u001b[39m\u001b[38;5;124m\"\u001b[39m\n\u001b[0;32m   7680\u001b[0m     )\n\u001b[1;32m-> 7681\u001b[0m new_data \u001b[38;5;241m=\u001b[39m obj\u001b[38;5;241m.\u001b[39m_mgr\u001b[38;5;241m.\u001b[39minterpolate(\n\u001b[0;32m   7682\u001b[0m     method\u001b[38;5;241m=\u001b[39mmethod,\n\u001b[0;32m   7683\u001b[0m     axis\u001b[38;5;241m=\u001b[39maxis,\n\u001b[0;32m   7684\u001b[0m     index\u001b[38;5;241m=\u001b[39mindex,\n\u001b[0;32m   7685\u001b[0m     limit\u001b[38;5;241m=\u001b[39mlimit,\n\u001b[0;32m   7686\u001b[0m     limit_direction\u001b[38;5;241m=\u001b[39mlimit_direction,\n\u001b[0;32m   7687\u001b[0m     limit_area\u001b[38;5;241m=\u001b[39mlimit_area,\n\u001b[0;32m   7688\u001b[0m     inplace\u001b[38;5;241m=\u001b[39minplace,\n\u001b[0;32m   7689\u001b[0m     downcast\u001b[38;5;241m=\u001b[39mdowncast,\n\u001b[0;32m   7690\u001b[0m     \u001b[38;5;241m*\u001b[39m\u001b[38;5;241m*\u001b[39mkwargs,\n\u001b[0;32m   7691\u001b[0m )\n\u001b[0;32m   7693\u001b[0m result \u001b[38;5;241m=\u001b[39m \u001b[38;5;28mself\u001b[39m\u001b[38;5;241m.\u001b[39m_constructor(new_data)\n\u001b[0;32m   7694\u001b[0m \u001b[38;5;28;01mif\u001b[39;00m should_transpose:\n",
      "File \u001b[1;32m~\\AppData\\Local\\Packages\\PythonSoftwareFoundation.Python.3.10_qbz5n2kfra8p0\\LocalCache\\local-packages\\Python310\\site-packages\\pandas\\core\\internals\\managers.py:417\u001b[0m, in \u001b[0;36mBaseBlockManager.interpolate\u001b[1;34m(self, inplace, **kwargs)\u001b[0m\n\u001b[0;32m    416\u001b[0m \u001b[38;5;28;01mdef\u001b[39;00m \u001b[38;5;21minterpolate\u001b[39m(\u001b[38;5;28mself\u001b[39m: T, inplace: \u001b[38;5;28mbool\u001b[39m, \u001b[38;5;241m*\u001b[39m\u001b[38;5;241m*\u001b[39mkwargs) \u001b[38;5;241m-\u001b[39m\u001b[38;5;241m>\u001b[39m T:\n\u001b[1;32m--> 417\u001b[0m     \u001b[38;5;28;01mreturn\u001b[39;00m \u001b[38;5;28mself\u001b[39m\u001b[38;5;241m.\u001b[39mapply(\n\u001b[0;32m    418\u001b[0m         \u001b[38;5;124m\"\u001b[39m\u001b[38;5;124minterpolate\u001b[39m\u001b[38;5;124m\"\u001b[39m, inplace\u001b[38;5;241m=\u001b[39minplace, \u001b[38;5;241m*\u001b[39m\u001b[38;5;241m*\u001b[39mkwargs, using_cow\u001b[38;5;241m=\u001b[39musing_copy_on_write()\n\u001b[0;32m    419\u001b[0m     )\n",
      "File \u001b[1;32m~\\AppData\\Local\\Packages\\PythonSoftwareFoundation.Python.3.10_qbz5n2kfra8p0\\LocalCache\\local-packages\\Python310\\site-packages\\pandas\\core\\internals\\managers.py:352\u001b[0m, in \u001b[0;36mBaseBlockManager.apply\u001b[1;34m(self, f, align_keys, **kwargs)\u001b[0m\n\u001b[0;32m    350\u001b[0m         applied \u001b[38;5;241m=\u001b[39m b\u001b[38;5;241m.\u001b[39mapply(f, \u001b[38;5;241m*\u001b[39m\u001b[38;5;241m*\u001b[39mkwargs)\n\u001b[0;32m    351\u001b[0m     \u001b[38;5;28;01melse\u001b[39;00m:\n\u001b[1;32m--> 352\u001b[0m         applied \u001b[38;5;241m=\u001b[39m \u001b[38;5;28mgetattr\u001b[39m(b, f)(\u001b[38;5;241m*\u001b[39m\u001b[38;5;241m*\u001b[39mkwargs)\n\u001b[0;32m    353\u001b[0m     result_blocks \u001b[38;5;241m=\u001b[39m extend_blocks(applied, result_blocks)\n\u001b[0;32m    355\u001b[0m out \u001b[38;5;241m=\u001b[39m \u001b[38;5;28mtype\u001b[39m(\u001b[38;5;28mself\u001b[39m)\u001b[38;5;241m.\u001b[39mfrom_blocks(result_blocks, \u001b[38;5;28mself\u001b[39m\u001b[38;5;241m.\u001b[39maxes)\n",
      "File \u001b[1;32m~\\AppData\\Local\\Packages\\PythonSoftwareFoundation.Python.3.10_qbz5n2kfra8p0\\LocalCache\\local-packages\\Python310\\site-packages\\pandas\\core\\internals\\blocks.py:2237\u001b[0m, in \u001b[0;36mDatetimeLikeBlock.interpolate\u001b[1;34m(self, method, index, axis, inplace, limit, fill_value, using_cow, **kwargs)\u001b[0m\n\u001b[0;32m   2235\u001b[0m     new_values \u001b[38;5;241m=\u001b[39m values\u001b[38;5;241m.\u001b[39mT\u001b[38;5;241m.\u001b[39mfillna(value\u001b[38;5;241m=\u001b[39mfill_value, method\u001b[38;5;241m=\u001b[39mmethod, limit\u001b[38;5;241m=\u001b[39mlimit)\u001b[38;5;241m.\u001b[39mT\n\u001b[0;32m   2236\u001b[0m \u001b[38;5;28;01melse\u001b[39;00m:\n\u001b[1;32m-> 2237\u001b[0m     new_values \u001b[38;5;241m=\u001b[39m \u001b[43mvalues\u001b[49m\u001b[38;5;241;43m.\u001b[39;49m\u001b[43mfillna\u001b[49m\u001b[43m(\u001b[49m\u001b[43mvalue\u001b[49m\u001b[38;5;241;43m=\u001b[39;49m\u001b[43mfill_value\u001b[49m\u001b[43m,\u001b[49m\u001b[43m \u001b[49m\u001b[43mmethod\u001b[49m\u001b[38;5;241;43m=\u001b[39;49m\u001b[43mmethod\u001b[49m\u001b[43m,\u001b[49m\u001b[43m \u001b[49m\u001b[43mlimit\u001b[49m\u001b[38;5;241;43m=\u001b[39;49m\u001b[43mlimit\u001b[49m\u001b[43m)\u001b[49m\n\u001b[0;32m   2238\u001b[0m \u001b[38;5;28;01mreturn\u001b[39;00m \u001b[38;5;28mself\u001b[39m\u001b[38;5;241m.\u001b[39mmake_block_same_class(new_values)\n",
      "File \u001b[1;32m~\\AppData\\Local\\Packages\\PythonSoftwareFoundation.Python.3.10_qbz5n2kfra8p0\\LocalCache\\local-packages\\Python310\\site-packages\\pandas\\core\\arrays\\_mixins.py:299\u001b[0m, in \u001b[0;36mNDArrayBackedExtensionArray.fillna\u001b[1;34m(self, value, method, limit)\u001b[0m\n\u001b[0;32m    295\u001b[0m \u001b[38;5;129m@doc\u001b[39m(ExtensionArray\u001b[38;5;241m.\u001b[39mfillna)\n\u001b[0;32m    296\u001b[0m \u001b[38;5;28;01mdef\u001b[39;00m \u001b[38;5;21mfillna\u001b[39m(\n\u001b[0;32m    297\u001b[0m     \u001b[38;5;28mself\u001b[39m: NDArrayBackedExtensionArrayT, value\u001b[38;5;241m=\u001b[39m\u001b[38;5;28;01mNone\u001b[39;00m, method\u001b[38;5;241m=\u001b[39m\u001b[38;5;28;01mNone\u001b[39;00m, limit\u001b[38;5;241m=\u001b[39m\u001b[38;5;28;01mNone\u001b[39;00m\n\u001b[0;32m    298\u001b[0m ) \u001b[38;5;241m-\u001b[39m\u001b[38;5;241m>\u001b[39m NDArrayBackedExtensionArrayT:\n\u001b[1;32m--> 299\u001b[0m     value, method \u001b[38;5;241m=\u001b[39m \u001b[43mvalidate_fillna_kwargs\u001b[49m\u001b[43m(\u001b[49m\n\u001b[0;32m    300\u001b[0m \u001b[43m        \u001b[49m\u001b[43mvalue\u001b[49m\u001b[43m,\u001b[49m\u001b[43m \u001b[49m\u001b[43mmethod\u001b[49m\u001b[43m,\u001b[49m\u001b[43m \u001b[49m\u001b[43mvalidate_scalar_dict_value\u001b[49m\u001b[38;5;241;43m=\u001b[39;49m\u001b[38;5;28;43;01mFalse\u001b[39;49;00m\n\u001b[0;32m    301\u001b[0m \u001b[43m    \u001b[49m\u001b[43m)\u001b[49m\n\u001b[0;32m    303\u001b[0m     mask \u001b[38;5;241m=\u001b[39m \u001b[38;5;28mself\u001b[39m\u001b[38;5;241m.\u001b[39misna()\n\u001b[0;32m    304\u001b[0m     \u001b[38;5;66;03m# error: Argument 2 to \"check_value_size\" has incompatible type\u001b[39;00m\n\u001b[0;32m    305\u001b[0m     \u001b[38;5;66;03m# \"ExtensionArray\"; expected \"ndarray\"\u001b[39;00m\n",
      "File \u001b[1;32m~\\AppData\\Local\\Packages\\PythonSoftwareFoundation.Python.3.10_qbz5n2kfra8p0\\LocalCache\\local-packages\\Python310\\site-packages\\pandas\\util\\_validators.py:290\u001b[0m, in \u001b[0;36mvalidate_fillna_kwargs\u001b[1;34m(value, method, validate_scalar_dict_value)\u001b[0m\n\u001b[0;32m    288\u001b[0m     \u001b[38;5;28;01mraise\u001b[39;00m \u001b[38;5;167;01mValueError\u001b[39;00m(\u001b[38;5;124m\"\u001b[39m\u001b[38;5;124mMust specify a fill \u001b[39m\u001b[38;5;124m'\u001b[39m\u001b[38;5;124mvalue\u001b[39m\u001b[38;5;124m'\u001b[39m\u001b[38;5;124m or \u001b[39m\u001b[38;5;124m'\u001b[39m\u001b[38;5;124mmethod\u001b[39m\u001b[38;5;124m'\u001b[39m\u001b[38;5;124m.\u001b[39m\u001b[38;5;124m\"\u001b[39m)\n\u001b[0;32m    289\u001b[0m \u001b[38;5;28;01mif\u001b[39;00m value \u001b[38;5;129;01mis\u001b[39;00m \u001b[38;5;28;01mNone\u001b[39;00m \u001b[38;5;129;01mand\u001b[39;00m method \u001b[38;5;129;01mis\u001b[39;00m \u001b[38;5;129;01mnot\u001b[39;00m \u001b[38;5;28;01mNone\u001b[39;00m:\n\u001b[1;32m--> 290\u001b[0m     method \u001b[38;5;241m=\u001b[39m \u001b[43mclean_fill_method\u001b[49m\u001b[43m(\u001b[49m\u001b[43mmethod\u001b[49m\u001b[43m)\u001b[49m\n\u001b[0;32m    292\u001b[0m \u001b[38;5;28;01melif\u001b[39;00m value \u001b[38;5;129;01mis\u001b[39;00m \u001b[38;5;129;01mnot\u001b[39;00m \u001b[38;5;28;01mNone\u001b[39;00m \u001b[38;5;129;01mand\u001b[39;00m method \u001b[38;5;129;01mis\u001b[39;00m \u001b[38;5;28;01mNone\u001b[39;00m:\n\u001b[0;32m    293\u001b[0m     \u001b[38;5;28;01mif\u001b[39;00m validate_scalar_dict_value \u001b[38;5;129;01mand\u001b[39;00m \u001b[38;5;28misinstance\u001b[39m(value, (\u001b[38;5;28mlist\u001b[39m, \u001b[38;5;28mtuple\u001b[39m)):\n",
      "File \u001b[1;32m~\\AppData\\Local\\Packages\\PythonSoftwareFoundation.Python.3.10_qbz5n2kfra8p0\\LocalCache\\local-packages\\Python310\\site-packages\\pandas\\core\\missing.py:139\u001b[0m, in \u001b[0;36mclean_fill_method\u001b[1;34m(method, allow_nearest)\u001b[0m\n\u001b[0;32m    137\u001b[0m     expecting \u001b[38;5;241m=\u001b[39m \u001b[38;5;124m\"\u001b[39m\u001b[38;5;124mpad (ffill), backfill (bfill) or nearest\u001b[39m\u001b[38;5;124m\"\u001b[39m\n\u001b[0;32m    138\u001b[0m \u001b[38;5;28;01mif\u001b[39;00m method \u001b[38;5;129;01mnot\u001b[39;00m \u001b[38;5;129;01min\u001b[39;00m valid_methods:\n\u001b[1;32m--> 139\u001b[0m     \u001b[38;5;28;01mraise\u001b[39;00m \u001b[38;5;167;01mValueError\u001b[39;00m(\u001b[38;5;124mf\u001b[39m\u001b[38;5;124m\"\u001b[39m\u001b[38;5;124mInvalid fill method. Expecting \u001b[39m\u001b[38;5;132;01m{\u001b[39;00mexpecting\u001b[38;5;132;01m}\u001b[39;00m\u001b[38;5;124m. Got \u001b[39m\u001b[38;5;132;01m{\u001b[39;00mmethod\u001b[38;5;132;01m}\u001b[39;00m\u001b[38;5;124m\"\u001b[39m)\n\u001b[0;32m    140\u001b[0m \u001b[38;5;28;01mreturn\u001b[39;00m method\n",
      "\u001b[1;31mValueError\u001b[0m: Invalid fill method. Expecting pad (ffill) or backfill (bfill). Got time"
     ]
    }
   ],
   "source": [
    "\n",
    "\n",
    "# Assuming vessel_data_dict is the dictionary with vesselId as keys and dataframes as values\n",
    "# Each dataframe contains AIS data with columns like 'time' and 'etaRaw'\n",
    "\n",
    "def compute_time_difference_with_interpolation(vessel_data_dict):\n",
    "    for vessel_id, df in vessel_data_dict.items():\n",
    "        # Sort the dataframe by time for each vessel to ensure interpolation is done in a chronological order\n",
    "        df = df.sort_values(by='time')\n",
    "\n",
    "        # Convert 'etaRaw' and 'time' to datetime format\n",
    "        df['etaRaw'] = pd.to_datetime(df['etaRaw'], errors='coerce')\n",
    "        df['time'] = pd.to_datetime(df['time'], errors='coerce')\n",
    "\n",
    "        # Set 'time' as the index to allow for time-based interpolation\n",
    "        df = df.set_index('time')\n",
    "\n",
    "        # Interpolate 'etaRaw' linearly for NaN values based on time\n",
    "        df['etaRaw'] = df['etaRaw'].interpolate(method='time')\n",
    "\n",
    "        # Reset the index back to a column\n",
    "        df = df.reset_index()\n",
    "\n",
    "        # Calculate the time difference between 'etaRaw' and 'time' in hours\n",
    "        df['time_difference'] = (df['etaRaw'] - df['time']).dt.total_seconds() / 3600\n",
    "\n",
    "        # Update the dictionary with the modified dataframe\n",
    "        vessel_data_dict[vessel_id] = df\n",
    "\n",
    "    return vessel_data_dict\n",
    "\n",
    "# Example usage\n",
    "# vessel_data_dict = { ... }  # Dictionary of ship-ids as keys and corresponding dataframes\n",
    "vessel_data_dict = compute_time_difference_with_interpolation(ship_train_dataframes)\n",
    "\n",
    "# Display the first few rows of each vessel's dataframe to verify the result\n",
    "for vessel_id, df in vessel_data_dict.items():\n",
    "    print(f\"Vessel ID: {vessel_id}\")\n",
    "    print(df.head())\n",
    "    break  # Just display the first vessel's data for brevity\n",
    "\n"
   ]
  },
  {
   "cell_type": "markdown",
   "metadata": {},
   "source": [
    "##### Conclutions"
   ]
  },
  {
   "cell_type": "markdown",
   "metadata": {},
   "source": [
    "- 94 of the ships contain invalid etaRaw values -> often corresponds to the ships mooring-status\n",
    "- Almost 750 000 of the timestamps have eta values before the time of the timestamp, almost 80% of these has a corresponding speed over ground close to 0 and navigational status as moored or at anchor"
   ]
  },
  {
   "cell_type": "markdown",
   "metadata": {},
   "source": [
    "#### Navigation status"
   ]
  },
  {
   "cell_type": "markdown",
   "metadata": {},
   "source": [
    "Interpretation of values:\n",
    "- 0: underway using engine\n",
    "- 1: At anchor\n",
    "- 2: Not under command\n",
    "- 3: Restricted menouverability\n",
    "- 4: Constrained by her draught\n",
    "- 5: moored\n",
    "- 6: aground\n",
    "- 7: engaged in fishing\n",
    "- 8: under way sailing\n",
    "- 9-13: Reserved for future use\n",
    "- 14: AIS-SART is active\n",
    "- 15: default (not defined)"
   ]
  },
  {
   "cell_type": "code",
   "execution_count": 46,
   "metadata": {},
   "outputs": [
    {
     "name": "stdout",
     "output_type": "stream",
     "text": [
      "Frequency of each NAVSTAT value:\n",
      "navstat\n",
      "0     782099\n",
      "5     605831\n",
      "1     129515\n",
      "2       2081\n",
      "8        948\n",
      "15       670\n",
      "6        521\n",
      "4        232\n",
      "3        161\n",
      "11         2\n",
      "13         1\n",
      "14         1\n",
      "7          1\n",
      "12         1\n",
      "9          1\n",
      "Name: count, dtype: int64\n"
     ]
    }
   ],
   "source": [
    "navstat_frequency = ais_data_train['navstat'].value_counts()\n",
    "\n",
    "# Display the frequency of each NAVSTAT value\n",
    "print(\"Frequency of each NAVSTAT value:\")\n",
    "print(navstat_frequency)\n"
   ]
  },
  {
   "cell_type": "code",
   "execution_count": 7,
   "metadata": {},
   "outputs": [
    {
     "name": "stdout",
     "output_type": "stream",
     "text": [
      "Frequency of each numeric movement status with contrast:\n",
      "movement_status\n",
      " 1.0    783047\n",
      "-1.0    735867\n",
      " 0.5      2474\n",
      " 0.0       677\n",
      "Name: count, dtype: int64\n"
     ]
    }
   ],
   "source": [
    "def categorize_navstat_contrast(navstat):\n",
    "    if navstat in [0, 8]:\n",
    "        return 1  # Underway\n",
    "    elif navstat in [2, 3, 4]:\n",
    "        return 0.5  # Restricted Movement\n",
    "    elif navstat in [1, 5, 6]:\n",
    "        return -1  # Stationary\n",
    "    else:\n",
    "        return 0  # Unknown\n",
    "\n",
    "# Apply the function to create a new column for the grouped NAVSTAT\n",
    "ais_data_train['movement_status'] = ais_data_train['navstat'].apply(categorize_navstat_contrast)\n",
    "\n",
    "# Display the frequency of each numeric movement status with contrast\n",
    "movement_status_contrast_frequency = ais_data_train['movement_status'].value_counts()\n",
    "print(\"Frequency of each numeric movement status with contrast:\")\n",
    "print(movement_status_contrast_frequency)"
   ]
  },
  {
   "cell_type": "markdown",
   "metadata": {},
   "source": [
    "#### Conclutions"
   ]
  },
  {
   "cell_type": "markdown",
   "metadata": {},
   "source": [
    "- Navigation status can definately provide good representations of the vessels movement status\n",
    "- These have been combined into four new features : 1: Underway (0 and 8), 0.5: Restricted movement (2, 3, 4), -1: stationary (1, 5, 6) and 0: unknown (7, 9 - 15)"
   ]
  },
  {
   "cell_type": "markdown",
   "metadata": {},
   "source": [
    "### Investigating how to use schedules to mai 2024"
   ]
  },
  {
   "cell_type": "markdown",
   "metadata": {},
   "source": [
    "Interesting points\n",
    "- The time of schedules have timezone information, the ais-time does not. Can infer this by using the latitude and longitude of the given timestamp and then use the time to lookup in the schedules file\n",
    "- \"Vessels follows shipping routes similarly as busses\" -> historic schedules are very interesting to inspect\n",
    "- There are 4000 ish schedules without a port-id -> Suggestion: Remove these columns\n",
    "- All visited ports for a vessels given schedules can be gathered in a list and then based on the previous port that ship was in and heading of the ship used to infer the most likely next port?\n",
    "\n",
    "\n",
    "\n",
    "\n",
    "Plan\n",
    "- Discuss with chat how to infer the most likely next port\n",
    "- Figure out how to lookup on the correct scheule for the given ship and examine if there are any ships in the test-dataset that does not have a corresponding schedule\n",
    "- "
   ]
  },
  {
   "cell_type": "code",
   "execution_count": 55,
   "metadata": {},
   "outputs": [
    {
     "name": "stdout",
     "output_type": "stream",
     "text": [
      "AIS 'time' column timezone information:\n",
      "datetime64[ns]\n",
      "None\n",
      "\n",
      "Schedule 'sailingDate' column timezone information:\n",
      "datetime64[ns, UTC]\n",
      "UTC\n",
      "\n",
      "Schedule 'arrivalDate' column timezone information:\n",
      "datetime64[ns, UTC]\n",
      "UTC\n"
     ]
    }
   ],
   "source": [
    "# Check the timezone information for each datetime column\n",
    "\n",
    "# AIS data 'time' column\n",
    "print(\"AIS 'time' column timezone information:\")\n",
    "print(ais_data_train['time'].dtype)  # Check dtype\n",
    "print(ais_data_train['time'].dt.tz)  # Check if tz-aware or tz-naive\n",
    "\n",
    "# Schedule 'sailingDate' column\n",
    "print(\"\\nSchedule 'sailingDate' column timezone information:\")\n",
    "print(schedules['sailingDate'].dtype)  # Check dtype\n",
    "print(schedules['sailingDate'].dt.tz)  # Check if tz-aware or tz-naive\n",
    "\n",
    "# Schedule 'arrivalDate' column\n",
    "print(\"\\nSchedule 'arrivalDate' column timezone information:\")\n",
    "print(schedules['arrivalDate'].dtype)  # Check dtype\n",
    "print(schedules['arrivalDate'].dt.tz)  # Check if tz-aware or tz-naive\n"
   ]
  },
  {
   "cell_type": "code",
   "execution_count": 86,
   "metadata": {},
   "outputs": [
    {
     "name": "stdout",
     "output_type": "stream",
     "text": [
      "Number of schedules with NaN values in 'portId': vesselId               0\n",
      "shippingLineId         0\n",
      "shippingLineName       0\n",
      "arrivalDate         4590\n",
      "sailingDate         1627\n",
      "portName               0\n",
      "portId                 0\n",
      "portLatitude           0\n",
      "portLongitude          0\n",
      "dtype: int64\n"
     ]
    }
   ],
   "source": [
    "schedules_cleaned = schedules.dropna(subset=['vesselId'])\n",
    "schedules_cleaned = schedules_cleaned.dropna(subset=['portId'])\n",
    "\n",
    "schedules = schedules_cleaned\n",
    "\n",
    "# Check how many schedules have NaN values in the 'portId' column\n",
    "nan_port_id_count = schedules_cleaned.isna().sum()\n",
    "\n",
    "# Display the count of schedules with NaN values for 'portId'\n",
    "print(f\"Number of schedules with NaN values in 'portId': {nan_port_id_count}\")\n"
   ]
  },
  {
   "cell_type": "code",
   "execution_count": 87,
   "metadata": {},
   "outputs": [
    {
     "name": "stdout",
     "output_type": "stream",
     "text": [
      "                   vesselId  schedule_count\n",
      "0  61e9f38eb937134a3c4bfd8b             760\n",
      "1  61e9f38eb937134a3c4bfd8f              15\n",
      "2  61e9f390b937134a3c4bfd93             106\n",
      "3  61e9f391b937134a3c4bfd95              99\n",
      "4  61e9f391b937134a3c4bfd97             247\n",
      "\n",
      "Summary of schedules per vessel:\n",
      "count     251.000000\n",
      "mean      508.107570\n",
      "std       499.892293\n",
      "min         1.000000\n",
      "25%        84.000000\n",
      "50%       319.000000\n",
      "75%       826.000000\n",
      "max      1988.000000\n",
      "Name: schedule_count, dtype: float64\n"
     ]
    }
   ],
   "source": [
    "\n",
    "\n",
    "# Assuming schedules_to_may dataframe is already loaded and contains a 'vesselId' column\n",
    "\n",
    "# Group by 'vesselId' to count the number of schedules for each vessel\n",
    "schedules_count_per_vessel = schedules.groupby('vesselId').size().reset_index(name='schedule_count')\n",
    "\n",
    "# Display the first few rows of the result to see how many schedules each vessel has\n",
    "print(schedules_count_per_vessel.head())\n",
    "\n",
    "# Optionally, display summary statistics of schedule counts\n",
    "print(\"\\nSummary of schedules per vessel:\")\n",
    "print(schedules_count_per_vessel['schedule_count'].describe())\n"
   ]
  },
  {
   "cell_type": "code",
   "execution_count": 88,
   "metadata": {},
   "outputs": [
    {
     "name": "stdout",
     "output_type": "stream",
     "text": [
      "                   vesselId                    portId  schedule_count\n",
      "0  61e9f38eb937134a3c4bfd8b  61d36f970a1807568ff9a151              36\n",
      "1  61e9f38eb937134a3c4bfd8b  61d36f9a0a1807568ff9a156              26\n",
      "2  61e9f38eb937134a3c4bfd8b  61d372143aeaecc07011a403               8\n",
      "3  61e9f38eb937134a3c4bfd8b  61d373443aeaecc07011a58f               1\n",
      "4  61e9f38eb937134a3c4bfd8b  61d374543aeaecc07011a722              43\n",
      "\n",
      "Summary of schedules per vessel-port combination:\n",
      "count    4747.000000\n",
      "mean       26.866442\n",
      "std        37.334101\n",
      "min         1.000000\n",
      "25%         3.000000\n",
      "50%        14.000000\n",
      "75%        34.000000\n",
      "max       361.000000\n",
      "Name: schedule_count, dtype: float64\n"
     ]
    }
   ],
   "source": [
    "schedules_count_per_vessel_port = schedules.groupby(['vesselId', 'portId']).size().reset_index(name='schedule_count')\n",
    "\n",
    "# Display the first few rows to see how many schedules each vessel has for the same port\n",
    "print(schedules_count_per_vessel_port.head())\n",
    "\n",
    "# Summary statistics of schedules per vessel-port combination\n",
    "print(\"\\nSummary of schedules per vessel-port combination:\")\n",
    "print(schedules_count_per_vessel_port['schedule_count'].describe())"
   ]
  },
  {
   "cell_type": "code",
   "execution_count": 89,
   "metadata": {},
   "outputs": [
    {
     "name": "stdout",
     "output_type": "stream",
     "text": [
      "                   vesselId  unique_port_count\n",
      "0  61e9f38eb937134a3c4bfd8b                 51\n",
      "1  61e9f38eb937134a3c4bfd8f                 11\n",
      "2  61e9f390b937134a3c4bfd93                 13\n",
      "3  61e9f391b937134a3c4bfd95                 11\n",
      "4  61e9f391b937134a3c4bfd97                  7\n",
      "\n",
      "Summary of unique ports per vessel:\n",
      "count    251.000000\n",
      "mean      18.912351\n",
      "std       12.028312\n",
      "min        1.000000\n",
      "25%        9.000000\n",
      "50%       16.000000\n",
      "75%       28.500000\n",
      "max       51.000000\n",
      "Name: unique_port_count, dtype: float64\n"
     ]
    }
   ],
   "source": [
    "\n",
    "# Assuming schedules dataframe is already loaded and contains 'vesselId' and 'portId' columns\n",
    "\n",
    "# Group by 'vesselId' to count the number of unique ports each vessel is scheduled to visit\n",
    "unique_ports_per_vessel = schedules.groupby('vesselId')['portId'].nunique().reset_index(name='unique_port_count')\n",
    "\n",
    "# Display the first few rows of the result to see how many unique ports each vessel is scheduled to visit\n",
    "print(unique_ports_per_vessel.head())\n",
    "\n",
    "# Summary statistics of unique port counts per vessel\n",
    "print(\"\\nSummary of unique ports per vessel:\")\n",
    "print(unique_ports_per_vessel['unique_port_count'].describe())\n"
   ]
  },
  {
   "cell_type": "code",
   "execution_count": 93,
   "metadata": {},
   "outputs": [
    {
     "name": "stdout",
     "output_type": "stream",
     "text": [
      "                     vesselId  valid_schedule_count\n",
      "103  61e9f3bfb937134a3c4bfe9f                     4\n",
      "108  61e9f3dcb937134a3c4bff3f                     4\n",
      "146  61e9f3fdb937134a3c4bffdf                     2\n",
      "179  61e9f415b937134a3c4c0061                     3\n",
      "204  61e9f424b937134a3c4c00cd                     4\n",
      "\n",
      "Number of vessels with less than 5 valid schedules: 12\n"
     ]
    }
   ],
   "source": [
    "\n",
    "\n",
    "# Assuming schedules dataframe is already loaded and contains 'vesselId' and 'portId' columns\n",
    "\n",
    "# Filter schedules to only include those with a valid 'portId'\n",
    "valid_port_schedules = schedules[schedules['portId'].notna()]\n",
    "\n",
    "# Group by 'vesselId' to count the number of schedules with valid 'portId' for each vessel\n",
    "valid_schedules_count_per_vessel = valid_port_schedules.groupby('vesselId').size().reset_index(name='valid_schedule_count')\n",
    "\n",
    "# Filter vessels that have less than 5 schedules with valid 'portId'\n",
    "vessels_less_than_five_valid = valid_schedules_count_per_vessel[valid_schedules_count_per_vessel['valid_schedule_count'] < 5]\n",
    "\n",
    "# Display the first few rows to see which vessels have less than 5 valid schedules\n",
    "print(vessels_less_than_five_valid.head())\n",
    "\n",
    "# Display the total number of vessels with less than 5 valid schedules\n",
    "print(f\"\\nNumber of vessels with less than 5 valid schedules: {len(vessels_less_than_five_valid)}\")\n"
   ]
  },
  {
   "cell_type": "code",
   "execution_count": 78,
   "metadata": {},
   "outputs": [
    {
     "name": "stdout",
     "output_type": "stream",
     "text": [
      "Number of vessels in AIS test dataset with less than 5 valid schedules: 6\n",
      "\n",
      "Vessels with less than 5 valid schedules:\n",
      "                    vesselId  valid_schedule_count\n",
      "54  61e9f424b937134a3c4c00cd                     4\n",
      "56  61e9f429b937134a3c4c00e7                     1\n",
      "57  61e9f42ab937134a3c4c00e9                     3\n",
      "60  61e9f438b937134a3c4c0149                     4\n",
      "61  61e9f443b937134a3c4c0197                     3\n",
      "63  61e9f45fb937134a3c4c0239                     4\n"
     ]
    }
   ],
   "source": [
    "\n",
    "\n",
    "# Assuming schedules and ais_test dataframes are already loaded\n",
    "\n",
    "# Step 1: Get unique vessel IDs from AIS test dataset\n",
    "unique_vessel_ids_test = ais_data_test['vesselId'].unique()\n",
    "\n",
    "# Step 2: Filter schedules to only include those with a valid 'portId' and belonging to vessels in the AIS test set\n",
    "valid_schedules_for_test_vessels = schedules[(schedules['portId'].notna()) & (schedules['vesselId'].isin(unique_vessel_ids_test))]\n",
    "\n",
    "# Step 3: Group by 'vesselId' to count the number of valid schedules for each vessel\n",
    "valid_schedules_count_per_vessel_test = valid_schedules_for_test_vessels.groupby('vesselId').size().reset_index(name='valid_schedule_count')\n",
    "\n",
    "# Step 4: Filter vessels that have less than 5 valid schedules\n",
    "vessels_less_than_five_valid_test = valid_schedules_count_per_vessel_test[valid_schedules_count_per_vessel_test['valid_schedule_count'] < 5]\n",
    "\n",
    "# Step 5: Get the total count of vessels with fewer than 5 valid schedules\n",
    "vessels_less_than_five_valid_test_count = len(vessels_less_than_five_valid_test)\n",
    "\n",
    "# Display the result\n",
    "print(f\"Number of vessels in AIS test dataset with less than 5 valid schedules: {vessels_less_than_five_valid_test_count}\")\n",
    "\n",
    "# Optionally, display the first few rows of vessels with less than 5 valid schedules\n",
    "print(\"\\nVessels with less than 5 valid schedules:\")\n",
    "print(vessels_less_than_five_valid_test.head(6))\n"
   ]
  },
  {
   "cell_type": "code",
   "execution_count": 96,
   "metadata": {},
   "outputs": [
    {
     "name": "stdout",
     "output_type": "stream",
     "text": [
      "                    vesselId                    portId  \\\n",
      "0   61e9f38eb937134a3c4bfd8b  61d36f970a1807568ff9a151   \n",
      "5   61e9f38eb937134a3c4bfd8b  61d36f9a0a1807568ff9a156   \n",
      "8   61e9f38eb937134a3c4bfd8b  61d372143aeaecc07011a403   \n",
      "10  61e9f38eb937134a3c4bfd8b  61d373443aeaecc07011a58f   \n",
      "12  61e9f38eb937134a3c4bfd8b  61d374543aeaecc07011a722   \n",
      "\n",
      "                   next_port  route_count  \n",
      "0   61d36f970a1807568ff9a151           28  \n",
      "5   61d36f9a0a1807568ff9a156           20  \n",
      "8   61d372143aeaecc07011a403            7  \n",
      "10  61d3784c93c6feb83e5eb7a2            1  \n",
      "12  61d374543aeaecc07011a722           31  \n"
     ]
    }
   ],
   "source": [
    "\n",
    "\n",
    "# Assuming schedules dataframe is already loaded\n",
    "# Group by 'vesselId' and 'portId' to determine the most frequent next port for each vessel and current port\n",
    "schedules['sailingDate'] = pd.to_datetime(schedules['sailingDate'])\n",
    "schedules_sorted = schedules.sort_values(by=['vesselId', 'sailingDate'])\n",
    "schedules['next_port'] = schedules_sorted.groupby('vesselId')['portId'].shift(-1)\n",
    "route_frequency = schedules.groupby(['vesselId', 'portId', 'next_port']).size().reset_index(name='route_count')\n",
    "\n",
    "# Get the most likely next port for each vessel-port combination\n",
    "most_likely_next_port = route_frequency.loc[route_frequency.groupby(['vesselId', 'portId'])['route_count'].idxmax()]\n",
    "\n",
    "\n",
    "print(most_likely_next_port.head())\n"
   ]
  },
  {
   "cell_type": "code",
   "execution_count": 8,
   "metadata": {},
   "outputs": [],
   "source": [
    "\n",
    "ship_train_groups = ais_data_train.groupby('vesselId')\n",
    "ship_train_dataframes = {ship_id: group for ship_id, group in ship_train_groups}"
   ]
  },
  {
   "cell_type": "code",
   "execution_count": 11,
   "metadata": {},
   "outputs": [
    {
     "name": "stdout",
     "output_type": "stream",
     "text": [
      "Port found\n"
     ]
    },
    {
     "ename": "KeyboardInterrupt",
     "evalue": "",
     "output_type": "error",
     "traceback": [
      "\u001b[1;31m---------------------------------------------------------------------------\u001b[0m",
      "\u001b[1;31mKeyboardInterrupt\u001b[0m                         Traceback (most recent call last)",
      "Cell \u001b[1;32mIn[11], line 38\u001b[0m\n\u001b[0;32m     34\u001b[0m     \u001b[38;5;28;01mreturn\u001b[39;00m last_visited_ports\n\u001b[0;32m     36\u001b[0m \u001b[38;5;66;03m# Example usage\u001b[39;00m\n\u001b[0;32m     37\u001b[0m \u001b[38;5;66;03m# Assuming 'vessel_data_dict' and 'ports' dataframes are already loaded\u001b[39;00m\n\u001b[1;32m---> 38\u001b[0m last_visited_ports \u001b[38;5;241m=\u001b[39m \u001b[43mfind_last_visited_port\u001b[49m\u001b[43m(\u001b[49m\u001b[43mship_train_dataframes\u001b[49m\u001b[43m,\u001b[49m\u001b[43m \u001b[49m\u001b[43mports\u001b[49m\u001b[43m)\u001b[49m\n\u001b[0;32m     40\u001b[0m \u001b[38;5;66;03m# Display the results\u001b[39;00m\n\u001b[0;32m     41\u001b[0m \u001b[38;5;28;01mfor\u001b[39;00m vessel_id, port_id \u001b[38;5;129;01min\u001b[39;00m last_visited_ports\u001b[38;5;241m.\u001b[39mitems():\n",
      "Cell \u001b[1;32mIn[11], line 24\u001b[0m, in \u001b[0;36mfind_last_visited_port\u001b[1;34m(vessel_data_dict, ports)\u001b[0m\n\u001b[0;32m     21\u001b[0m port_coords \u001b[38;5;241m=\u001b[39m (port_row[\u001b[38;5;124m'\u001b[39m\u001b[38;5;124mlatitude\u001b[39m\u001b[38;5;124m'\u001b[39m], port_row[\u001b[38;5;124m'\u001b[39m\u001b[38;5;124mlongitude\u001b[39m\u001b[38;5;124m'\u001b[39m])\n\u001b[0;32m     23\u001b[0m \u001b[38;5;66;03m# Check if the vessel is close to the port (using a threshold distance, e.g., within 1 km)\u001b[39;00m\n\u001b[1;32m---> 24\u001b[0m \u001b[38;5;28;01mif\u001b[39;00m \u001b[43mgeodesic\u001b[49m\u001b[43m(\u001b[49m\u001b[43mvessel_coords\u001b[49m\u001b[43m,\u001b[49m\u001b[43m \u001b[49m\u001b[43mport_coords\u001b[49m\u001b[43m)\u001b[49m\u001b[38;5;241m.\u001b[39mkm \u001b[38;5;241m<\u001b[39m \u001b[38;5;241m1\u001b[39m:\n\u001b[0;32m     25\u001b[0m     \u001b[38;5;66;03m# If a match is found, save the portId as the last visited port for this vessel\u001b[39;00m\n\u001b[0;32m     26\u001b[0m     last_visited_ports[vessel_id] \u001b[38;5;241m=\u001b[39m port_row[\u001b[38;5;124m'\u001b[39m\u001b[38;5;124mportId\u001b[39m\u001b[38;5;124m'\u001b[39m]\n\u001b[0;32m     27\u001b[0m     \u001b[38;5;28mprint\u001b[39m(\u001b[38;5;124m\"\u001b[39m\u001b[38;5;124mPort found\u001b[39m\u001b[38;5;124m\"\u001b[39m)\n",
      "File \u001b[1;32m~\\AppData\\Local\\Packages\\PythonSoftwareFoundation.Python.3.10_qbz5n2kfra8p0\\LocalCache\\local-packages\\Python310\\site-packages\\geopy\\distance.py:540\u001b[0m, in \u001b[0;36mgeodesic.__init__\u001b[1;34m(self, *args, **kwargs)\u001b[0m\n\u001b[0;32m    538\u001b[0m \u001b[38;5;28mself\u001b[39m\u001b[38;5;241m.\u001b[39mset_ellipsoid(kwargs\u001b[38;5;241m.\u001b[39mpop(\u001b[38;5;124m'\u001b[39m\u001b[38;5;124mellipsoid\u001b[39m\u001b[38;5;124m'\u001b[39m, \u001b[38;5;124m'\u001b[39m\u001b[38;5;124mWGS-84\u001b[39m\u001b[38;5;124m'\u001b[39m))\n\u001b[0;32m    539\u001b[0m major, minor, f \u001b[38;5;241m=\u001b[39m \u001b[38;5;28mself\u001b[39m\u001b[38;5;241m.\u001b[39mELLIPSOID\n\u001b[1;32m--> 540\u001b[0m \u001b[38;5;28msuper\u001b[39m()\u001b[38;5;241m.\u001b[39m\u001b[38;5;21m__init__\u001b[39m(\u001b[38;5;241m*\u001b[39margs, \u001b[38;5;241m*\u001b[39m\u001b[38;5;241m*\u001b[39mkwargs)\n",
      "File \u001b[1;32m~\\AppData\\Local\\Packages\\PythonSoftwareFoundation.Python.3.10_qbz5n2kfra8p0\\LocalCache\\local-packages\\Python310\\site-packages\\geopy\\distance.py:276\u001b[0m, in \u001b[0;36mDistance.__init__\u001b[1;34m(self, *args, **kwargs)\u001b[0m\n\u001b[0;32m    274\u001b[0m \u001b[38;5;28;01melif\u001b[39;00m \u001b[38;5;28mlen\u001b[39m(args) \u001b[38;5;241m>\u001b[39m \u001b[38;5;241m1\u001b[39m:\n\u001b[0;32m    275\u001b[0m     \u001b[38;5;28;01mfor\u001b[39;00m a, b \u001b[38;5;129;01min\u001b[39;00m util\u001b[38;5;241m.\u001b[39mpairwise(args):\n\u001b[1;32m--> 276\u001b[0m         kilometers \u001b[38;5;241m+\u001b[39m\u001b[38;5;241m=\u001b[39m \u001b[38;5;28;43mself\u001b[39;49m\u001b[38;5;241;43m.\u001b[39;49m\u001b[43mmeasure\u001b[49m\u001b[43m(\u001b[49m\u001b[43ma\u001b[49m\u001b[43m,\u001b[49m\u001b[43m \u001b[49m\u001b[43mb\u001b[49m\u001b[43m)\u001b[49m\n\u001b[0;32m    278\u001b[0m kilometers \u001b[38;5;241m+\u001b[39m\u001b[38;5;241m=\u001b[39m units\u001b[38;5;241m.\u001b[39mkilometers(\u001b[38;5;241m*\u001b[39m\u001b[38;5;241m*\u001b[39mkwargs)\n\u001b[0;32m    279\u001b[0m \u001b[38;5;28mself\u001b[39m\u001b[38;5;241m.\u001b[39m__kilometers \u001b[38;5;241m=\u001b[39m kilometers\n",
      "File \u001b[1;32m~\\AppData\\Local\\Packages\\PythonSoftwareFoundation.Python.3.10_qbz5n2kfra8p0\\LocalCache\\local-packages\\Python310\\site-packages\\geopy\\distance.py:566\u001b[0m, in \u001b[0;36mgeodesic.measure\u001b[1;34m(self, a, b)\u001b[0m\n\u001b[0;32m    561\u001b[0m \u001b[38;5;28;01mif\u001b[39;00m \u001b[38;5;129;01mnot\u001b[39;00m (\u001b[38;5;28misinstance\u001b[39m(\u001b[38;5;28mself\u001b[39m\u001b[38;5;241m.\u001b[39mgeod, Geodesic) \u001b[38;5;129;01mand\u001b[39;00m\n\u001b[0;32m    562\u001b[0m         \u001b[38;5;28mself\u001b[39m\u001b[38;5;241m.\u001b[39mgeod\u001b[38;5;241m.\u001b[39ma \u001b[38;5;241m==\u001b[39m \u001b[38;5;28mself\u001b[39m\u001b[38;5;241m.\u001b[39mELLIPSOID[\u001b[38;5;241m0\u001b[39m] \u001b[38;5;129;01mand\u001b[39;00m\n\u001b[0;32m    563\u001b[0m         \u001b[38;5;28mself\u001b[39m\u001b[38;5;241m.\u001b[39mgeod\u001b[38;5;241m.\u001b[39mf \u001b[38;5;241m==\u001b[39m \u001b[38;5;28mself\u001b[39m\u001b[38;5;241m.\u001b[39mELLIPSOID[\u001b[38;5;241m2\u001b[39m]):\n\u001b[0;32m    564\u001b[0m     \u001b[38;5;28mself\u001b[39m\u001b[38;5;241m.\u001b[39mgeod \u001b[38;5;241m=\u001b[39m Geodesic(\u001b[38;5;28mself\u001b[39m\u001b[38;5;241m.\u001b[39mELLIPSOID[\u001b[38;5;241m0\u001b[39m], \u001b[38;5;28mself\u001b[39m\u001b[38;5;241m.\u001b[39mELLIPSOID[\u001b[38;5;241m2\u001b[39m])\n\u001b[1;32m--> 566\u001b[0m s12 \u001b[38;5;241m=\u001b[39m \u001b[38;5;28;43mself\u001b[39;49m\u001b[38;5;241;43m.\u001b[39;49m\u001b[43mgeod\u001b[49m\u001b[38;5;241;43m.\u001b[39;49m\u001b[43mInverse\u001b[49m\u001b[43m(\u001b[49m\u001b[43mlat1\u001b[49m\u001b[43m,\u001b[49m\u001b[43m \u001b[49m\u001b[43mlon1\u001b[49m\u001b[43m,\u001b[49m\u001b[43m \u001b[49m\u001b[43mlat2\u001b[49m\u001b[43m,\u001b[49m\u001b[43m \u001b[49m\u001b[43mlon2\u001b[49m\u001b[43m,\u001b[49m\n\u001b[0;32m    567\u001b[0m \u001b[43m                        \u001b[49m\u001b[43mGeodesic\u001b[49m\u001b[38;5;241;43m.\u001b[39;49m\u001b[43mDISTANCE\u001b[49m\u001b[43m)\u001b[49m[\u001b[38;5;124m'\u001b[39m\u001b[38;5;124ms12\u001b[39m\u001b[38;5;124m'\u001b[39m]\n\u001b[0;32m    569\u001b[0m \u001b[38;5;28;01mreturn\u001b[39;00m s12\n",
      "File \u001b[1;32m~\\AppData\\Local\\Packages\\PythonSoftwareFoundation.Python.3.10_qbz5n2kfra8p0\\LocalCache\\local-packages\\Python310\\site-packages\\geographiclib\\geodesic.py:1030\u001b[0m, in \u001b[0;36mGeodesic.Inverse\u001b[1;34m(self, lat1, lon1, lat2, lon2, outmask)\u001b[0m\n\u001b[0;32m   1012\u001b[0m \u001b[38;5;28;01mdef\u001b[39;00m \u001b[38;5;21mInverse\u001b[39m(\u001b[38;5;28mself\u001b[39m, lat1, lon1, lat2, lon2,\n\u001b[0;32m   1013\u001b[0m             outmask \u001b[38;5;241m=\u001b[39m GeodesicCapability\u001b[38;5;241m.\u001b[39mSTANDARD):\n\u001b[0;32m   1014\u001b[0m \u001b[38;5;250m  \u001b[39m\u001b[38;5;124;03m\"\"\"Solve the inverse geodesic problem\u001b[39;00m\n\u001b[0;32m   1015\u001b[0m \n\u001b[0;32m   1016\u001b[0m \u001b[38;5;124;03m  :param lat1: latitude of the first point in degrees\u001b[39;00m\n\u001b[1;32m   (...)\u001b[0m\n\u001b[0;32m   1027\u001b[0m \n\u001b[0;32m   1028\u001b[0m \u001b[38;5;124;03m  \"\"\"\u001b[39;00m\n\u001b[1;32m-> 1030\u001b[0m   a12, s12, salp1,calp1, salp2,calp2, m12, M12, M21, S12 \u001b[38;5;241m=\u001b[39m \u001b[38;5;28;43mself\u001b[39;49m\u001b[38;5;241;43m.\u001b[39;49m\u001b[43m_GenInverse\u001b[49m\u001b[43m(\u001b[49m\n\u001b[0;32m   1031\u001b[0m \u001b[43m    \u001b[49m\u001b[43mlat1\u001b[49m\u001b[43m,\u001b[49m\u001b[43m \u001b[49m\u001b[43mlon1\u001b[49m\u001b[43m,\u001b[49m\u001b[43m \u001b[49m\u001b[43mlat2\u001b[49m\u001b[43m,\u001b[49m\u001b[43m \u001b[49m\u001b[43mlon2\u001b[49m\u001b[43m,\u001b[49m\u001b[43m \u001b[49m\u001b[43moutmask\u001b[49m\u001b[43m)\u001b[49m\n\u001b[0;32m   1032\u001b[0m   outmask \u001b[38;5;241m&\u001b[39m\u001b[38;5;241m=\u001b[39m Geodesic\u001b[38;5;241m.\u001b[39mOUT_MASK\n\u001b[0;32m   1033\u001b[0m   \u001b[38;5;28;01mif\u001b[39;00m outmask \u001b[38;5;241m&\u001b[39m Geodesic\u001b[38;5;241m.\u001b[39mLONG_UNROLL:\n",
      "File \u001b[1;32m~\\AppData\\Local\\Packages\\PythonSoftwareFoundation.Python.3.10_qbz5n2kfra8p0\\LocalCache\\local-packages\\Python310\\site-packages\\geographiclib\\geodesic.py:876\u001b[0m, in \u001b[0;36mGeodesic._GenInverse\u001b[1;34m(self, lat1, lon1, lat2, lon2, outmask)\u001b[0m\n\u001b[0;32m    870\u001b[0m salp1b \u001b[38;5;241m=\u001b[39m Geodesic\u001b[38;5;241m.\u001b[39mtiny_; calp1b \u001b[38;5;241m=\u001b[39m \u001b[38;5;241m-\u001b[39m\u001b[38;5;241m1.0\u001b[39m\n\u001b[0;32m    872\u001b[0m \u001b[38;5;28;01mwhile\u001b[39;00m numit \u001b[38;5;241m<\u001b[39m Geodesic\u001b[38;5;241m.\u001b[39mmaxit2_:\n\u001b[0;32m    873\u001b[0m   \u001b[38;5;66;03m# the WGS84 test set: mean = 1.47, sd = 1.25, max = 16\u001b[39;00m\n\u001b[0;32m    874\u001b[0m   \u001b[38;5;66;03m# WGS84 and random input: mean = 2.85, sd = 0.60\u001b[39;00m\n\u001b[0;32m    875\u001b[0m   (v, salp2, calp2, sig12, ssig1, csig1, ssig2, csig2,\n\u001b[1;32m--> 876\u001b[0m    eps, domg12, dv) \u001b[38;5;241m=\u001b[39m \u001b[38;5;28;43mself\u001b[39;49m\u001b[38;5;241;43m.\u001b[39;49m\u001b[43m_Lambda12\u001b[49m\u001b[43m(\u001b[49m\n\u001b[0;32m    877\u001b[0m \u001b[43m     \u001b[49m\u001b[43msbet1\u001b[49m\u001b[43m,\u001b[49m\u001b[43m \u001b[49m\u001b[43mcbet1\u001b[49m\u001b[43m,\u001b[49m\u001b[43m \u001b[49m\u001b[43mdn1\u001b[49m\u001b[43m,\u001b[49m\u001b[43m \u001b[49m\u001b[43msbet2\u001b[49m\u001b[43m,\u001b[49m\u001b[43m \u001b[49m\u001b[43mcbet2\u001b[49m\u001b[43m,\u001b[49m\u001b[43m \u001b[49m\u001b[43mdn2\u001b[49m\u001b[43m,\u001b[49m\n\u001b[0;32m    878\u001b[0m \u001b[43m     \u001b[49m\u001b[43msalp1\u001b[49m\u001b[43m,\u001b[49m\u001b[43m \u001b[49m\u001b[43mcalp1\u001b[49m\u001b[43m,\u001b[49m\u001b[43m \u001b[49m\u001b[43mslam12\u001b[49m\u001b[43m,\u001b[49m\u001b[43m \u001b[49m\u001b[43mclam12\u001b[49m\u001b[43m,\u001b[49m\u001b[43m \u001b[49m\u001b[43mnumit\u001b[49m\u001b[43m \u001b[49m\u001b[38;5;241;43m<\u001b[39;49m\u001b[43m \u001b[49m\u001b[43mGeodesic\u001b[49m\u001b[38;5;241;43m.\u001b[39;49m\u001b[43mmaxit1_\u001b[49m\u001b[43m,\u001b[49m\n\u001b[0;32m    879\u001b[0m \u001b[43m     \u001b[49m\u001b[43mC1a\u001b[49m\u001b[43m,\u001b[49m\u001b[43m \u001b[49m\u001b[43mC2a\u001b[49m\u001b[43m,\u001b[49m\u001b[43m \u001b[49m\u001b[43mC3a\u001b[49m\u001b[43m)\u001b[49m\n\u001b[0;32m    880\u001b[0m   \u001b[38;5;66;03m# Reversed test to allow escape with NaNs\u001b[39;00m\n\u001b[0;32m    881\u001b[0m   \u001b[38;5;28;01mif\u001b[39;00m tripb \u001b[38;5;129;01mor\u001b[39;00m \u001b[38;5;129;01mnot\u001b[39;00m (\u001b[38;5;28mabs\u001b[39m(v) \u001b[38;5;241m>\u001b[39m\u001b[38;5;241m=\u001b[39m (\u001b[38;5;241m8\u001b[39m \u001b[38;5;28;01mif\u001b[39;00m tripn \u001b[38;5;28;01melse\u001b[39;00m \u001b[38;5;241m1\u001b[39m) \u001b[38;5;241m*\u001b[39m Geodesic\u001b[38;5;241m.\u001b[39mtol0_):\n",
      "File \u001b[1;32m~\\AppData\\Local\\Packages\\PythonSoftwareFoundation.Python.3.10_qbz5n2kfra8p0\\LocalCache\\local-packages\\Python310\\site-packages\\geographiclib\\geodesic.py:690\u001b[0m, in \u001b[0;36mGeodesic._Lambda12\u001b[1;34m(self, sbet1, cbet1, dn1, sbet2, cbet2, dn2, salp1, calp1, slam120, clam120, diffp, C1a, C2a, C3a)\u001b[0m\n\u001b[0;32m    688\u001b[0m     dlam12 \u001b[38;5;241m=\u001b[39m \u001b[38;5;241m-\u001b[39m \u001b[38;5;241m2\u001b[39m \u001b[38;5;241m*\u001b[39m \u001b[38;5;28mself\u001b[39m\u001b[38;5;241m.\u001b[39m_f1 \u001b[38;5;241m*\u001b[39m dn1 \u001b[38;5;241m/\u001b[39m sbet1\n\u001b[0;32m    689\u001b[0m   \u001b[38;5;28;01melse\u001b[39;00m:\n\u001b[1;32m--> 690\u001b[0m     dummy, dlam12, dummy, dummy, dummy \u001b[38;5;241m=\u001b[39m \u001b[38;5;28;43mself\u001b[39;49m\u001b[38;5;241;43m.\u001b[39;49m\u001b[43m_Lengths\u001b[49m\u001b[43m(\u001b[49m\n\u001b[0;32m    691\u001b[0m \u001b[43m      \u001b[49m\u001b[43meps\u001b[49m\u001b[43m,\u001b[49m\u001b[43m \u001b[49m\u001b[43msig12\u001b[49m\u001b[43m,\u001b[49m\u001b[43m \u001b[49m\u001b[43mssig1\u001b[49m\u001b[43m,\u001b[49m\u001b[43m \u001b[49m\u001b[43mcsig1\u001b[49m\u001b[43m,\u001b[49m\u001b[43m \u001b[49m\u001b[43mdn1\u001b[49m\u001b[43m,\u001b[49m\u001b[43m \u001b[49m\u001b[43mssig2\u001b[49m\u001b[43m,\u001b[49m\u001b[43m \u001b[49m\u001b[43mcsig2\u001b[49m\u001b[43m,\u001b[49m\u001b[43m \u001b[49m\u001b[43mdn2\u001b[49m\u001b[43m,\u001b[49m\u001b[43m \u001b[49m\u001b[43mcbet1\u001b[49m\u001b[43m,\u001b[49m\u001b[43m \u001b[49m\u001b[43mcbet2\u001b[49m\u001b[43m,\u001b[49m\n\u001b[0;32m    692\u001b[0m \u001b[43m      \u001b[49m\u001b[43mGeodesic\u001b[49m\u001b[38;5;241;43m.\u001b[39;49m\u001b[43mREDUCEDLENGTH\u001b[49m\u001b[43m,\u001b[49m\u001b[43m \u001b[49m\u001b[43mC1a\u001b[49m\u001b[43m,\u001b[49m\u001b[43m \u001b[49m\u001b[43mC2a\u001b[49m\u001b[43m)\u001b[49m\n\u001b[0;32m    693\u001b[0m     dlam12 \u001b[38;5;241m*\u001b[39m\u001b[38;5;241m=\u001b[39m \u001b[38;5;28mself\u001b[39m\u001b[38;5;241m.\u001b[39m_f1 \u001b[38;5;241m/\u001b[39m (calp2 \u001b[38;5;241m*\u001b[39m cbet2)\n\u001b[0;32m    694\u001b[0m \u001b[38;5;28;01melse\u001b[39;00m:\n",
      "File \u001b[1;32m~\\AppData\\Local\\Packages\\PythonSoftwareFoundation.Python.3.10_qbz5n2kfra8p0\\LocalCache\\local-packages\\Python310\\site-packages\\geographiclib\\geodesic.py:447\u001b[0m, in \u001b[0;36mGeodesic._Lengths\u001b[1;34m(self, eps, sig12, ssig1, csig1, dn1, ssig2, csig2, dn2, cbet1, cbet2, outmask, C1a, C2a)\u001b[0m\n\u001b[0;32m    444\u001b[0m \u001b[38;5;28;01mif\u001b[39;00m outmask \u001b[38;5;241m&\u001b[39m (Geodesic\u001b[38;5;241m.\u001b[39mDISTANCE \u001b[38;5;241m|\u001b[39m Geodesic\u001b[38;5;241m.\u001b[39mREDUCEDLENGTH \u001b[38;5;241m|\u001b[39m\n\u001b[0;32m    445\u001b[0m               Geodesic\u001b[38;5;241m.\u001b[39mGEODESICSCALE):\n\u001b[0;32m    446\u001b[0m   A1 \u001b[38;5;241m=\u001b[39m Geodesic\u001b[38;5;241m.\u001b[39m_A1m1f(eps)\n\u001b[1;32m--> 447\u001b[0m   \u001b[43mGeodesic\u001b[49m\u001b[38;5;241;43m.\u001b[39;49m\u001b[43m_C1f\u001b[49m\u001b[43m(\u001b[49m\u001b[43meps\u001b[49m\u001b[43m,\u001b[49m\u001b[43m \u001b[49m\u001b[43mC1a\u001b[49m\u001b[43m)\u001b[49m\n\u001b[0;32m    448\u001b[0m   \u001b[38;5;28;01mif\u001b[39;00m outmask \u001b[38;5;241m&\u001b[39m (Geodesic\u001b[38;5;241m.\u001b[39mREDUCEDLENGTH \u001b[38;5;241m|\u001b[39m Geodesic\u001b[38;5;241m.\u001b[39mGEODESICSCALE):\n\u001b[0;32m    449\u001b[0m     A2 \u001b[38;5;241m=\u001b[39m Geodesic\u001b[38;5;241m.\u001b[39m_A2m1f(eps)\n",
      "File \u001b[1;32m~\\AppData\\Local\\Packages\\PythonSoftwareFoundation.Python.3.10_qbz5n2kfra8p0\\LocalCache\\local-packages\\Python310\\site-packages\\geographiclib\\geodesic.py:221\u001b[0m, in \u001b[0;36mGeodesic._C1f\u001b[1;34m(eps, c)\u001b[0m\n\u001b[0;32m    219\u001b[0m \u001b[38;5;28;01mfor\u001b[39;00m l \u001b[38;5;129;01min\u001b[39;00m \u001b[38;5;28mrange\u001b[39m(\u001b[38;5;241m1\u001b[39m, Geodesic\u001b[38;5;241m.\u001b[39mnC1_ \u001b[38;5;241m+\u001b[39m \u001b[38;5;241m1\u001b[39m): \u001b[38;5;66;03m# l is index of C1p[l]\u001b[39;00m\n\u001b[0;32m    220\u001b[0m   m \u001b[38;5;241m=\u001b[39m (Geodesic\u001b[38;5;241m.\u001b[39mnC1_ \u001b[38;5;241m-\u001b[39m l) \u001b[38;5;241m/\u001b[39m\u001b[38;5;241m/\u001b[39m \u001b[38;5;241m2\u001b[39m        \u001b[38;5;66;03m# order of polynomial in eps^2\u001b[39;00m\n\u001b[1;32m--> 221\u001b[0m   c[l] \u001b[38;5;241m=\u001b[39m d \u001b[38;5;241m*\u001b[39m \u001b[43mMath\u001b[49m\u001b[38;5;241;43m.\u001b[39;49m\u001b[43mpolyval\u001b[49m\u001b[43m(\u001b[49m\u001b[43mm\u001b[49m\u001b[43m,\u001b[49m\u001b[43m \u001b[49m\u001b[43mcoeff\u001b[49m\u001b[43m,\u001b[49m\u001b[43m \u001b[49m\u001b[43mo\u001b[49m\u001b[43m,\u001b[49m\u001b[43m \u001b[49m\u001b[43meps2\u001b[49m\u001b[43m)\u001b[49m \u001b[38;5;241m/\u001b[39m coeff[o \u001b[38;5;241m+\u001b[39m m \u001b[38;5;241m+\u001b[39m \u001b[38;5;241m1\u001b[39m]\n\u001b[0;32m    222\u001b[0m   o \u001b[38;5;241m+\u001b[39m\u001b[38;5;241m=\u001b[39m m \u001b[38;5;241m+\u001b[39m \u001b[38;5;241m2\u001b[39m\n\u001b[0;32m    223\u001b[0m   d \u001b[38;5;241m*\u001b[39m\u001b[38;5;241m=\u001b[39m eps\n",
      "\u001b[1;31mKeyboardInterrupt\u001b[0m: "
     ]
    }
   ],
   "source": [
    "\n",
    "\n",
    "# Assuming 'vessel_data_dict' is a dictionary with vesselId as keys and each value being a dataframe with AIS data\n",
    "# 'ports' dataframe contains columns 'portId', 'portLatitude', 'portLongitude'\n",
    "\n",
    "# Function to find the last visited port for each vessel\n",
    "def find_last_visited_port(vessel_data_dict, ports):\n",
    "    last_visited_ports = {}\n",
    "\n",
    "    # Iterate through each vessel in the dictionary\n",
    "    for vessel_id, vessel_data in vessel_data_dict.items():\n",
    "        # Sort the vessel data by 'time' in descending order to iterate backward in time\n",
    "        vessel_data = vessel_data.sort_values(by='time', ascending=False)\n",
    "\n",
    "        # Iterate through each timestep in the vessel data\n",
    "        for _, row in vessel_data.iterrows():\n",
    "            if row['movement_status_contrast'] == -1:  # Check if movement status contrast is -1\n",
    "                # Get the vessel's current latitude and longitude\n",
    "                vessel_coords = (row['latitude'], row['longitude'])\n",
    "                \n",
    "                # Iterate through each port to check if the vessel's location matches the port's location\n",
    "                for _, port_row in ports.iterrows():\n",
    "                    port_coords = (port_row['latitude'], port_row['longitude'])\n",
    "                    \n",
    "                    # Check if the vessel is close to the port (using a threshold distance, e.g., within 1 km)\n",
    "                    if geodesic(vessel_coords, port_coords).km < 1:\n",
    "                        # If a match is found, save the portId as the last visited port for this vessel\n",
    "                        last_visited_ports[vessel_id] = port_row['portId']\n",
    "                        print(\"Port found\")\n",
    "                        break  # Break the inner loop if a match is found\n",
    "            \n",
    "            # If the last visited port is found, break the outer loop for this vessel\n",
    "            if vessel_id in last_visited_ports:\n",
    "                break\n",
    "\n",
    "    return last_visited_ports\n",
    "\n",
    "# Example usage\n",
    "# Assuming 'vessel_data_dict' and 'ports' dataframes are already loaded\n",
    "last_visited_ports = find_last_visited_port(ship_train_dataframes, ports)\n",
    "\n",
    "# Display the results\n",
    "for vessel_id, port_id in last_visited_ports.items():\n",
    "    print(f\"Vessel {vessel_id} last visited port: {port_id}\")\n"
   ]
  },
  {
   "cell_type": "code",
   "execution_count": 4,
   "metadata": {},
   "outputs": [],
   "source": [
    "\n",
    "\n",
    "# Assuming ais_data_train and schedules are dataframes already loaded\n",
    "# Initialize the TimezoneFinder\n",
    "tf = TimezoneFinder()\n",
    "\n",
    "# Function to find timezone based on latitude and longitude\n",
    "def find_timezone(lat, lon):\n",
    "    try:\n",
    "        return tf.timezone_at(lat=lat, lng=lon)\n",
    "    except:\n",
    "        return None\n",
    "\n",
    "# Function to convert UTC time to local time using the found timezone\n",
    "def convert_to_local_time(time, timezone_name):\n",
    "    if pd.notna(timezone_name):\n",
    "        local_timezone = pytz.timezone(timezone_name)\n",
    "        return time.astimezone(local_timezone)\n",
    "    else:\n",
    "        print(\"Error\")\n",
    "        return None  # If timezone is not found, keep the time as is\n",
    "\n",
    "# Convert 'time' column to datetime and localize it to UTC\n",
    "ais_data_train['time'] = pd.to_datetime(ais_data_train['time']).dt.tz_localize('UTC')\n",
    "\n",
    "# Apply timezone finder to get the correct timezone for each AIS record\n",
    "ais_data_train['timezone'] = ais_data_train.apply(lambda row: find_timezone(row['latitude'], row['longitude']), axis=1)\n",
    "\n",
    "# Convert AIS time from UTC to local time for each record based on the found timezone\n",
    "ais_data_train['time'] = ais_data_train.apply(lambda row: convert_to_local_time(row['time'], row['timezone']), axis=1)\n",
    "\n",
    "# Drop the temporary 'timezone' column as it is no longer needed\n",
    "ais_data_train = ais_data_train.drop(columns=['timezone'])\n",
    "\n",
    "# Display the first few rows to verify the updated time column\n",
    "print(ais_data_train.head())\n"
   ]
  }
 ],
 "metadata": {
  "kernelspec": {
   "display_name": "Python 3",
   "language": "python",
   "name": "python3"
  },
  "language_info": {
   "codemirror_mode": {
    "name": "ipython",
    "version": 3
   },
   "file_extension": ".py",
   "mimetype": "text/x-python",
   "name": "python",
   "nbconvert_exporter": "python",
   "pygments_lexer": "ipython3",
   "version": "3.10.11"
  }
 },
 "nbformat": 4,
 "nbformat_minor": 2
}
