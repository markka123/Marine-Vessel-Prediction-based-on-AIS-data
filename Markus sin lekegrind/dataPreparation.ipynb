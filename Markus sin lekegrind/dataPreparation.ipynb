{
 "cells": [
  {
   "cell_type": "markdown",
   "metadata": {},
   "source": [
    "### Clean up data and transform to correct formats"
   ]
  },
  {
   "cell_type": "markdown",
   "metadata": {},
   "source": [
    "Vessel-specific data:\n",
    "- Ship-type\n",
    "- Draft\n",
    "- Length\n",
    "- Breadth\n",
    "- Depth\n",
    "- Engine Power\n",
    "- Top speed\n",
    "- longitude and latitude of destination port\n",
    "- longditude and latitude of home port\n",
    "- longditude and latutude of ais-port\n",
    "\n",
    "Time-series data:\n",
    "- Time since sailing\n",
    "- Time untill arrival\n",
    "- Mooring status (True if sog is close to zero, longitude and latitude does not change for a certain time, if the longitude and latitude are close to the known port-destinations)\n",
    "- AIS data (position, cog, sog, rot, heading, ETARAW, navstat)\n",
    "\n",
    "\n",
    "Ideas to derived features:\n",
    "- Current speed percentage of max speed\n",
    "- Historical average speed over different time frames\n",
    "- Heading relative to destination port - suggests if the ship is taking a detour or not\n",
    "- Changes in heading\n"
   ]
  },
  {
   "cell_type": "code",
   "execution_count": null,
   "metadata": {},
   "outputs": [],
   "source": [
    "import pandas as pd\n",
    "import numpy as np"
   ]
  },
  {
   "cell_type": "code",
   "execution_count": null,
   "metadata": {},
   "outputs": [],
   "source": [
    "ais_train_data_path = '../../Project materials/ais_train.csv'\n",
    "ports_data_path = '../../Project materials/ports.csv'\n",
    "vessels_data_path = '../../Project materials/vessels.csv'\n",
    "schedules_data_path = '../../Project materials/schedules_to_may_2024.csv'\n",
    "\n",
    "\n",
    "\n",
    "ais_data_train = pd.read_csv(ais_train_data_path, sep='|')\n",
    "ports = pd.read_csv(ports_data_path, sep='|')\n",
    "vessels = pd.read_csv(vessels_data_path, sep='|')\n",
    "schedules = pd.read_csv(schedules_data_path, sep='|')"
   ]
  },
  {
   "cell_type": "code",
   "execution_count": null,
   "metadata": {},
   "outputs": [],
   "source": [
    "ship_train_groups = ais_data_train.groupby('vesselId')\n",
    "ship_train_dataframes = {ship_id: group for ship_id, group in ship_train_groups}"
   ]
  }
 ],
 "metadata": {
  "kernelspec": {
   "display_name": "Python 3",
   "language": "python",
   "name": "python3"
  },
  "language_info": {
   "name": "python",
   "version": "3.10.11"
  }
 },
 "nbformat": 4,
 "nbformat_minor": 2
}
